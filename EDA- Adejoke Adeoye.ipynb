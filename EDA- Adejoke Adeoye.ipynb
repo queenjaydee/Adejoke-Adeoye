{
 "cells": [
  {
   "cell_type": "code",
   "execution_count": 1,
   "id": "ce016957",
   "metadata": {},
   "outputs": [],
   "source": [
    "#loading required python modules for the task\n",
    "import pandas as pd\n",
    "import numpy as np\n",
    "import matplotlib.pyplot as plt\n",
    "import seaborn as sns\n",
    "%matplotlib inline"
   ]
  },
  {
   "cell_type": "code",
   "execution_count": 2,
   "id": "d485b828",
   "metadata": {},
   "outputs": [],
   "source": [
    "#reading in the data\n",
    "data = pd.read_csv('nyc_taxi_trip_duration.csv')"
   ]
  },
  {
   "cell_type": "code",
   "execution_count": 3,
   "id": "1dd844b2",
   "metadata": {},
   "outputs": [
    {
     "name": "stdout",
     "output_type": "stream",
     "text": [
      "<class 'pandas.core.frame.DataFrame'>\n",
      "RangeIndex: 729322 entries, 0 to 729321\n",
      "Data columns (total 11 columns):\n",
      " #   Column              Non-Null Count   Dtype  \n",
      "---  ------              --------------   -----  \n",
      " 0   id                  729322 non-null  object \n",
      " 1   vendor_id           729322 non-null  int64  \n",
      " 2   pickup_datetime     729322 non-null  object \n",
      " 3   dropoff_datetime    729322 non-null  object \n",
      " 4   passenger_count     729322 non-null  int64  \n",
      " 5   pickup_longitude    729322 non-null  float64\n",
      " 6   pickup_latitude     729322 non-null  float64\n",
      " 7   dropoff_longitude   729322 non-null  float64\n",
      " 8   dropoff_latitude    729322 non-null  float64\n",
      " 9   store_and_fwd_flag  729322 non-null  object \n",
      " 10  trip_duration       729322 non-null  int64  \n",
      "dtypes: float64(4), int64(3), object(4)\n",
      "memory usage: 61.2+ MB\n"
     ]
    }
   ],
   "source": [
    "#checking information about data\n",
    "data.info()"
   ]
  },
  {
   "cell_type": "code",
   "execution_count": 4,
   "id": "822039d3",
   "metadata": {},
   "outputs": [
    {
     "data": {
      "text/html": [
       "<div>\n",
       "<style scoped>\n",
       "    .dataframe tbody tr th:only-of-type {\n",
       "        vertical-align: middle;\n",
       "    }\n",
       "\n",
       "    .dataframe tbody tr th {\n",
       "        vertical-align: top;\n",
       "    }\n",
       "\n",
       "    .dataframe thead th {\n",
       "        text-align: right;\n",
       "    }\n",
       "</style>\n",
       "<table border=\"1\" class=\"dataframe\">\n",
       "  <thead>\n",
       "    <tr style=\"text-align: right;\">\n",
       "      <th></th>\n",
       "      <th>vendor_id</th>\n",
       "      <th>passenger_count</th>\n",
       "      <th>pickup_longitude</th>\n",
       "      <th>pickup_latitude</th>\n",
       "      <th>dropoff_longitude</th>\n",
       "      <th>dropoff_latitude</th>\n",
       "      <th>trip_duration</th>\n",
       "    </tr>\n",
       "  </thead>\n",
       "  <tbody>\n",
       "    <tr>\n",
       "      <th>count</th>\n",
       "      <td>729322.000000</td>\n",
       "      <td>729322.000000</td>\n",
       "      <td>729322.000000</td>\n",
       "      <td>729322.000000</td>\n",
       "      <td>729322.000000</td>\n",
       "      <td>729322.000000</td>\n",
       "      <td>7.293220e+05</td>\n",
       "    </tr>\n",
       "    <tr>\n",
       "      <th>mean</th>\n",
       "      <td>1.535403</td>\n",
       "      <td>1.662055</td>\n",
       "      <td>-73.973513</td>\n",
       "      <td>40.750919</td>\n",
       "      <td>-73.973422</td>\n",
       "      <td>40.751775</td>\n",
       "      <td>9.522291e+02</td>\n",
       "    </tr>\n",
       "    <tr>\n",
       "      <th>std</th>\n",
       "      <td>0.498745</td>\n",
       "      <td>1.312446</td>\n",
       "      <td>0.069754</td>\n",
       "      <td>0.033594</td>\n",
       "      <td>0.069588</td>\n",
       "      <td>0.036037</td>\n",
       "      <td>3.864626e+03</td>\n",
       "    </tr>\n",
       "    <tr>\n",
       "      <th>min</th>\n",
       "      <td>1.000000</td>\n",
       "      <td>0.000000</td>\n",
       "      <td>-121.933342</td>\n",
       "      <td>34.712234</td>\n",
       "      <td>-121.933304</td>\n",
       "      <td>32.181141</td>\n",
       "      <td>1.000000e+00</td>\n",
       "    </tr>\n",
       "    <tr>\n",
       "      <th>25%</th>\n",
       "      <td>1.000000</td>\n",
       "      <td>1.000000</td>\n",
       "      <td>-73.991859</td>\n",
       "      <td>40.737335</td>\n",
       "      <td>-73.991318</td>\n",
       "      <td>40.735931</td>\n",
       "      <td>3.970000e+02</td>\n",
       "    </tr>\n",
       "    <tr>\n",
       "      <th>50%</th>\n",
       "      <td>2.000000</td>\n",
       "      <td>1.000000</td>\n",
       "      <td>-73.981758</td>\n",
       "      <td>40.754070</td>\n",
       "      <td>-73.979759</td>\n",
       "      <td>40.754509</td>\n",
       "      <td>6.630000e+02</td>\n",
       "    </tr>\n",
       "    <tr>\n",
       "      <th>75%</th>\n",
       "      <td>2.000000</td>\n",
       "      <td>2.000000</td>\n",
       "      <td>-73.967361</td>\n",
       "      <td>40.768314</td>\n",
       "      <td>-73.963036</td>\n",
       "      <td>40.769741</td>\n",
       "      <td>1.075000e+03</td>\n",
       "    </tr>\n",
       "    <tr>\n",
       "      <th>max</th>\n",
       "      <td>2.000000</td>\n",
       "      <td>9.000000</td>\n",
       "      <td>-65.897385</td>\n",
       "      <td>51.881084</td>\n",
       "      <td>-65.897385</td>\n",
       "      <td>43.921028</td>\n",
       "      <td>1.939736e+06</td>\n",
       "    </tr>\n",
       "  </tbody>\n",
       "</table>\n",
       "</div>"
      ],
      "text/plain": [
       "           vendor_id  passenger_count  pickup_longitude  pickup_latitude  \\\n",
       "count  729322.000000    729322.000000     729322.000000    729322.000000   \n",
       "mean        1.535403         1.662055        -73.973513        40.750919   \n",
       "std         0.498745         1.312446          0.069754         0.033594   \n",
       "min         1.000000         0.000000       -121.933342        34.712234   \n",
       "25%         1.000000         1.000000        -73.991859        40.737335   \n",
       "50%         2.000000         1.000000        -73.981758        40.754070   \n",
       "75%         2.000000         2.000000        -73.967361        40.768314   \n",
       "max         2.000000         9.000000        -65.897385        51.881084   \n",
       "\n",
       "       dropoff_longitude  dropoff_latitude  trip_duration  \n",
       "count      729322.000000     729322.000000   7.293220e+05  \n",
       "mean          -73.973422         40.751775   9.522291e+02  \n",
       "std             0.069588          0.036037   3.864626e+03  \n",
       "min          -121.933304         32.181141   1.000000e+00  \n",
       "25%           -73.991318         40.735931   3.970000e+02  \n",
       "50%           -73.979759         40.754509   6.630000e+02  \n",
       "75%           -73.963036         40.769741   1.075000e+03  \n",
       "max           -65.897385         43.921028   1.939736e+06  "
      ]
     },
     "execution_count": 4,
     "metadata": {},
     "output_type": "execute_result"
    }
   ],
   "source": [
    "# check statistics of data\n",
    "data.describe()"
   ]
  },
  {
   "cell_type": "code",
   "execution_count": 5,
   "id": "4bf7fe94",
   "metadata": {},
   "outputs": [
    {
     "data": {
      "text/plain": [
       "(729322, 11)"
      ]
     },
     "execution_count": 5,
     "metadata": {},
     "output_type": "execute_result"
    }
   ],
   "source": [
    "#checking total dataset\n",
    "data.shape"
   ]
  },
  {
   "cell_type": "code",
   "execution_count": 6,
   "id": "32497c36",
   "metadata": {},
   "outputs": [
    {
     "data": {
      "text/plain": [
       "Index(['id', 'vendor_id', 'pickup_datetime', 'dropoff_datetime',\n",
       "       'passenger_count', 'pickup_longitude', 'pickup_latitude',\n",
       "       'dropoff_longitude', 'dropoff_latitude', 'store_and_fwd_flag',\n",
       "       'trip_duration'],\n",
       "      dtype='object')"
      ]
     },
     "execution_count": 6,
     "metadata": {},
     "output_type": "execute_result"
    }
   ],
   "source": [
    "data.columns"
   ]
  },
  {
   "cell_type": "code",
   "execution_count": 7,
   "id": "9dd1d30c",
   "metadata": {},
   "outputs": [
    {
     "data": {
      "text/html": [
       "<div>\n",
       "<style scoped>\n",
       "    .dataframe tbody tr th:only-of-type {\n",
       "        vertical-align: middle;\n",
       "    }\n",
       "\n",
       "    .dataframe tbody tr th {\n",
       "        vertical-align: top;\n",
       "    }\n",
       "\n",
       "    .dataframe thead th {\n",
       "        text-align: right;\n",
       "    }\n",
       "</style>\n",
       "<table border=\"1\" class=\"dataframe\">\n",
       "  <thead>\n",
       "    <tr style=\"text-align: right;\">\n",
       "      <th></th>\n",
       "      <th>id</th>\n",
       "      <th>vendor_id</th>\n",
       "      <th>pickup_datetime</th>\n",
       "      <th>dropoff_datetime</th>\n",
       "      <th>passenger_count</th>\n",
       "      <th>pickup_longitude</th>\n",
       "      <th>pickup_latitude</th>\n",
       "      <th>dropoff_longitude</th>\n",
       "      <th>dropoff_latitude</th>\n",
       "      <th>store_and_fwd_flag</th>\n",
       "      <th>trip_duration</th>\n",
       "    </tr>\n",
       "  </thead>\n",
       "  <tbody>\n",
       "    <tr>\n",
       "      <th>0</th>\n",
       "      <td>id1080784</td>\n",
       "      <td>2</td>\n",
       "      <td>2016-02-29 16:40:21</td>\n",
       "      <td>2016-02-29 16:47:01</td>\n",
       "      <td>1</td>\n",
       "      <td>-73.953918</td>\n",
       "      <td>40.778873</td>\n",
       "      <td>-73.963875</td>\n",
       "      <td>40.771164</td>\n",
       "      <td>N</td>\n",
       "      <td>400</td>\n",
       "    </tr>\n",
       "    <tr>\n",
       "      <th>1</th>\n",
       "      <td>id0889885</td>\n",
       "      <td>1</td>\n",
       "      <td>2016-03-11 23:35:37</td>\n",
       "      <td>2016-03-11 23:53:57</td>\n",
       "      <td>2</td>\n",
       "      <td>-73.988312</td>\n",
       "      <td>40.731743</td>\n",
       "      <td>-73.994751</td>\n",
       "      <td>40.694931</td>\n",
       "      <td>N</td>\n",
       "      <td>1100</td>\n",
       "    </tr>\n",
       "    <tr>\n",
       "      <th>2</th>\n",
       "      <td>id0857912</td>\n",
       "      <td>2</td>\n",
       "      <td>2016-02-21 17:59:33</td>\n",
       "      <td>2016-02-21 18:26:48</td>\n",
       "      <td>2</td>\n",
       "      <td>-73.997314</td>\n",
       "      <td>40.721458</td>\n",
       "      <td>-73.948029</td>\n",
       "      <td>40.774918</td>\n",
       "      <td>N</td>\n",
       "      <td>1635</td>\n",
       "    </tr>\n",
       "    <tr>\n",
       "      <th>3</th>\n",
       "      <td>id3744273</td>\n",
       "      <td>2</td>\n",
       "      <td>2016-01-05 09:44:31</td>\n",
       "      <td>2016-01-05 10:03:32</td>\n",
       "      <td>6</td>\n",
       "      <td>-73.961670</td>\n",
       "      <td>40.759720</td>\n",
       "      <td>-73.956779</td>\n",
       "      <td>40.780628</td>\n",
       "      <td>N</td>\n",
       "      <td>1141</td>\n",
       "    </tr>\n",
       "    <tr>\n",
       "      <th>4</th>\n",
       "      <td>id0232939</td>\n",
       "      <td>1</td>\n",
       "      <td>2016-02-17 06:42:23</td>\n",
       "      <td>2016-02-17 06:56:31</td>\n",
       "      <td>1</td>\n",
       "      <td>-74.017120</td>\n",
       "      <td>40.708469</td>\n",
       "      <td>-73.988182</td>\n",
       "      <td>40.740631</td>\n",
       "      <td>N</td>\n",
       "      <td>848</td>\n",
       "    </tr>\n",
       "  </tbody>\n",
       "</table>\n",
       "</div>"
      ],
      "text/plain": [
       "          id  vendor_id      pickup_datetime     dropoff_datetime  \\\n",
       "0  id1080784          2  2016-02-29 16:40:21  2016-02-29 16:47:01   \n",
       "1  id0889885          1  2016-03-11 23:35:37  2016-03-11 23:53:57   \n",
       "2  id0857912          2  2016-02-21 17:59:33  2016-02-21 18:26:48   \n",
       "3  id3744273          2  2016-01-05 09:44:31  2016-01-05 10:03:32   \n",
       "4  id0232939          1  2016-02-17 06:42:23  2016-02-17 06:56:31   \n",
       "\n",
       "   passenger_count  pickup_longitude  pickup_latitude  dropoff_longitude  \\\n",
       "0                1        -73.953918        40.778873         -73.963875   \n",
       "1                2        -73.988312        40.731743         -73.994751   \n",
       "2                2        -73.997314        40.721458         -73.948029   \n",
       "3                6        -73.961670        40.759720         -73.956779   \n",
       "4                1        -74.017120        40.708469         -73.988182   \n",
       "\n",
       "   dropoff_latitude store_and_fwd_flag  trip_duration  \n",
       "0         40.771164                  N            400  \n",
       "1         40.694931                  N           1100  \n",
       "2         40.774918                  N           1635  \n",
       "3         40.780628                  N           1141  \n",
       "4         40.740631                  N            848  "
      ]
     },
     "execution_count": 7,
     "metadata": {},
     "output_type": "execute_result"
    }
   ],
   "source": [
    "data.head()"
   ]
  },
  {
   "cell_type": "code",
   "execution_count": 8,
   "id": "077a1a4c",
   "metadata": {
    "scrolled": true
   },
   "outputs": [
    {
     "data": {
      "text/plain": [
       "id                    0\n",
       "vendor_id             0\n",
       "pickup_datetime       0\n",
       "dropoff_datetime      0\n",
       "passenger_count       0\n",
       "pickup_longitude      0\n",
       "pickup_latitude       0\n",
       "dropoff_longitude     0\n",
       "dropoff_latitude      0\n",
       "store_and_fwd_flag    0\n",
       "trip_duration         0\n",
       "dtype: int64"
      ]
     },
     "execution_count": 8,
     "metadata": {},
     "output_type": "execute_result"
    }
   ],
   "source": [
    "#checking for missing values in the dataset\n",
    "data.isna().sum()"
   ]
  },
  {
   "cell_type": "markdown",
   "id": "bfc0b9c4",
   "metadata": {},
   "source": [
    "Fortunately, They are no missing values in the dataset. We can move on to explore the data."
   ]
  },
  {
   "cell_type": "code",
   "execution_count": 9,
   "id": "abbc28b5",
   "metadata": {
    "scrolled": true
   },
   "outputs": [
    {
     "data": {
      "text/plain": [
       "(array([2, 1], dtype=int64),\n",
       " array(['N', 'Y'], dtype=object),\n",
       " array([1, 2, 6, 3, 4, 5, 0, 7, 9], dtype=int64))"
      ]
     },
     "execution_count": 9,
     "metadata": {},
     "output_type": "execute_result"
    }
   ],
   "source": [
    "#checking uniqueness of data to be able to identify suspected categorical columns\n",
    "data['vendor_id'].unique(), data['store_and_fwd_flag'].unique(), data['passenger_count'].unique()"
   ]
  },
  {
   "cell_type": "markdown",
   "id": "70fd43ee",
   "metadata": {},
   "source": [
    "I found that the vendor_id columns has two unique values(1,2)\n",
    "The store_and_fwd_flag has two also ('N', 'Y')\n",
    "The passenger_count has 9 unique characteristics (1, 2, 6, 3, 4, 5, 0, 7, 9), I am however skepital that passenger count can be zero."
   ]
  },
  {
   "cell_type": "code",
   "execution_count": 10,
   "id": "dcb18cba",
   "metadata": {},
   "outputs": [
    {
     "data": {
      "text/plain": [
       "33"
      ]
     },
     "execution_count": 10,
     "metadata": {},
     "output_type": "execute_result"
    }
   ],
   "source": [
    "(data['passenger_count'] == 0).sum()"
   ]
  },
  {
   "cell_type": "markdown",
   "id": "5fd13c2e",
   "metadata": {},
   "source": [
    "Thought that was an error, hence, the above, but it shows there are 33 of such entries, wow! what could this be? A cancelled trip? I cannot think of any other reason right now, maybe the business will be in the best position to explain this. Anyway, let's continue."
   ]
  },
  {
   "cell_type": "code",
   "execution_count": 11,
   "id": "d758410d",
   "metadata": {
    "scrolled": true
   },
   "outputs": [
    {
     "data": {
      "text/plain": [
       "id                    729322\n",
       "vendor_id                  2\n",
       "pickup_datetime       709359\n",
       "dropoff_datetime      709308\n",
       "passenger_count            9\n",
       "pickup_longitude       19729\n",
       "pickup_latitude        39776\n",
       "dropoff_longitude      27892\n",
       "dropoff_latitude       53579\n",
       "store_and_fwd_flag         2\n",
       "trip_duration           6296\n",
       "dtype: int64"
      ]
     },
     "execution_count": 11,
     "metadata": {},
     "output_type": "execute_result"
    }
   ],
   "source": [
    "#checking for uniqueness in all columns just in case there are other hidden categorical columns.\n",
    "data.nunique()"
   ]
  },
  {
   "cell_type": "code",
   "execution_count": 12,
   "id": "067e2740",
   "metadata": {},
   "outputs": [],
   "source": [
    "#converting to categorical data\n",
    "data['vendor_id'] = data['vendor_id'].astype('category')\n",
    "data['store_and_fwd_flag'] = data['store_and_fwd_flag'].astype('category')"
   ]
  },
  {
   "cell_type": "code",
   "execution_count": 13,
   "id": "4f1bc3b4",
   "metadata": {},
   "outputs": [
    {
     "data": {
      "text/html": [
       "<div>\n",
       "<style scoped>\n",
       "    .dataframe tbody tr th:only-of-type {\n",
       "        vertical-align: middle;\n",
       "    }\n",
       "\n",
       "    .dataframe tbody tr th {\n",
       "        vertical-align: top;\n",
       "    }\n",
       "\n",
       "    .dataframe thead th {\n",
       "        text-align: right;\n",
       "    }\n",
       "</style>\n",
       "<table border=\"1\" class=\"dataframe\">\n",
       "  <thead>\n",
       "    <tr style=\"text-align: right;\">\n",
       "      <th></th>\n",
       "      <th>id</th>\n",
       "      <th>vendor_id</th>\n",
       "      <th>pickup_datetime</th>\n",
       "      <th>dropoff_datetime</th>\n",
       "      <th>passenger_count</th>\n",
       "      <th>pickup_longitude</th>\n",
       "      <th>pickup_latitude</th>\n",
       "      <th>dropoff_longitude</th>\n",
       "      <th>dropoff_latitude</th>\n",
       "      <th>store_and_fwd_flag</th>\n",
       "      <th>trip_duration</th>\n",
       "    </tr>\n",
       "  </thead>\n",
       "  <tbody>\n",
       "    <tr>\n",
       "      <th>0</th>\n",
       "      <td>id1080784</td>\n",
       "      <td>2</td>\n",
       "      <td>2016-02-29 16:40:21</td>\n",
       "      <td>2016-02-29 16:47:01</td>\n",
       "      <td>1</td>\n",
       "      <td>-73.953918</td>\n",
       "      <td>40.778873</td>\n",
       "      <td>-73.963875</td>\n",
       "      <td>40.771164</td>\n",
       "      <td>N</td>\n",
       "      <td>400</td>\n",
       "    </tr>\n",
       "    <tr>\n",
       "      <th>1</th>\n",
       "      <td>id0889885</td>\n",
       "      <td>1</td>\n",
       "      <td>2016-03-11 23:35:37</td>\n",
       "      <td>2016-03-11 23:53:57</td>\n",
       "      <td>2</td>\n",
       "      <td>-73.988312</td>\n",
       "      <td>40.731743</td>\n",
       "      <td>-73.994751</td>\n",
       "      <td>40.694931</td>\n",
       "      <td>N</td>\n",
       "      <td>1100</td>\n",
       "    </tr>\n",
       "    <tr>\n",
       "      <th>2</th>\n",
       "      <td>id0857912</td>\n",
       "      <td>2</td>\n",
       "      <td>2016-02-21 17:59:33</td>\n",
       "      <td>2016-02-21 18:26:48</td>\n",
       "      <td>2</td>\n",
       "      <td>-73.997314</td>\n",
       "      <td>40.721458</td>\n",
       "      <td>-73.948029</td>\n",
       "      <td>40.774918</td>\n",
       "      <td>N</td>\n",
       "      <td>1635</td>\n",
       "    </tr>\n",
       "    <tr>\n",
       "      <th>3</th>\n",
       "      <td>id3744273</td>\n",
       "      <td>2</td>\n",
       "      <td>2016-01-05 09:44:31</td>\n",
       "      <td>2016-01-05 10:03:32</td>\n",
       "      <td>6</td>\n",
       "      <td>-73.961670</td>\n",
       "      <td>40.759720</td>\n",
       "      <td>-73.956779</td>\n",
       "      <td>40.780628</td>\n",
       "      <td>N</td>\n",
       "      <td>1141</td>\n",
       "    </tr>\n",
       "    <tr>\n",
       "      <th>4</th>\n",
       "      <td>id0232939</td>\n",
       "      <td>1</td>\n",
       "      <td>2016-02-17 06:42:23</td>\n",
       "      <td>2016-02-17 06:56:31</td>\n",
       "      <td>1</td>\n",
       "      <td>-74.017120</td>\n",
       "      <td>40.708469</td>\n",
       "      <td>-73.988182</td>\n",
       "      <td>40.740631</td>\n",
       "      <td>N</td>\n",
       "      <td>848</td>\n",
       "    </tr>\n",
       "  </tbody>\n",
       "</table>\n",
       "</div>"
      ],
      "text/plain": [
       "          id vendor_id      pickup_datetime     dropoff_datetime  \\\n",
       "0  id1080784         2  2016-02-29 16:40:21  2016-02-29 16:47:01   \n",
       "1  id0889885         1  2016-03-11 23:35:37  2016-03-11 23:53:57   \n",
       "2  id0857912         2  2016-02-21 17:59:33  2016-02-21 18:26:48   \n",
       "3  id3744273         2  2016-01-05 09:44:31  2016-01-05 10:03:32   \n",
       "4  id0232939         1  2016-02-17 06:42:23  2016-02-17 06:56:31   \n",
       "\n",
       "   passenger_count  pickup_longitude  pickup_latitude  dropoff_longitude  \\\n",
       "0                1        -73.953918        40.778873         -73.963875   \n",
       "1                2        -73.988312        40.731743         -73.994751   \n",
       "2                2        -73.997314        40.721458         -73.948029   \n",
       "3                6        -73.961670        40.759720         -73.956779   \n",
       "4                1        -74.017120        40.708469         -73.988182   \n",
       "\n",
       "   dropoff_latitude store_and_fwd_flag  trip_duration  \n",
       "0         40.771164                  N            400  \n",
       "1         40.694931                  N           1100  \n",
       "2         40.774918                  N           1635  \n",
       "3         40.780628                  N           1141  \n",
       "4         40.740631                  N            848  "
      ]
     },
     "execution_count": 13,
     "metadata": {},
     "output_type": "execute_result"
    }
   ],
   "source": [
    "#let's inspect the data once more to have and idea characteristics of each column.\n",
    "data.head()"
   ]
  },
  {
   "cell_type": "markdown",
   "id": "a4a1f35a",
   "metadata": {},
   "source": [
    "The data has both pick up date and drop off time. We can get some additional information from these two fields, like weekday, hour and month. First, I have to convert to datetime format using pandas since I already found that the two fields are originally of the object datatype."
   ]
  },
  {
   "cell_type": "code",
   "execution_count": 14,
   "id": "bad9853b",
   "metadata": {},
   "outputs": [],
   "source": [
    "data['pickup_datetime']=pd.to_datetime(data['pickup_datetime'])\n",
    "data['dropoff_datetime']=pd.to_datetime(data['dropoff_datetime'])"
   ]
  },
  {
   "cell_type": "code",
   "execution_count": 15,
   "id": "4141b1d5",
   "metadata": {
    "scrolled": false
   },
   "outputs": [],
   "source": [
    "#extracting helpful information for pickup time\n",
    "data['pickup_hour'] = data['pickup_datetime'].dt.hour\n",
    "data['pickup_weekday'] = data['pickup_datetime'].dt.day_name()\n",
    "data['pickup_month'] = data['pickup_datetime'].dt.month_name(locale = 'English')"
   ]
  },
  {
   "cell_type": "code",
   "execution_count": 16,
   "id": "6eed048a",
   "metadata": {
    "scrolled": true
   },
   "outputs": [
    {
     "data": {
      "text/plain": [
       "(array([16, 23, 17,  9,  6, 18, 20, 19, 22, 13,  1,  8, 21,  3, 15,  7, 14,\n",
       "        11, 12, 10,  0,  2,  4,  5], dtype=int64),\n",
       " array(['Monday', 'Friday', 'Sunday', 'Tuesday', 'Wednesday', 'Thursday',\n",
       "        'Saturday'], dtype=object),\n",
       " array(['February', 'March', 'January', 'April', 'June', 'May'],\n",
       "       dtype=object))"
      ]
     },
     "execution_count": 16,
     "metadata": {},
     "output_type": "execute_result"
    }
   ],
   "source": [
    "#inspecting the uniqueness of each data and they all make sense except for month\n",
    "data['pickup_hour'].unique(), data['pickup_weekday'].unique(), data['pickup_month'].unique()"
   ]
  },
  {
   "cell_type": "code",
   "execution_count": 17,
   "id": "ea6fdb61",
   "metadata": {},
   "outputs": [
    {
     "data": {
      "text/plain": [
       "Timestamp('2016-06-30 23:59:37')"
      ]
     },
     "execution_count": 17,
     "metadata": {},
     "output_type": "execute_result"
    }
   ],
   "source": [
    "#Was a bit skeptical about the month, thought it was a year long data, decided to do the below and it's all good.\n",
    "#data['pickup_datetime'].min()\n",
    "data['pickup_datetime'].max()"
   ]
  },
  {
   "cell_type": "code",
   "execution_count": 18,
   "id": "5358ff30",
   "metadata": {},
   "outputs": [],
   "source": [
    "#I will just go ahead to do the above for dropoff time\n",
    "data['dropoff_hour'] = data['dropoff_datetime'].dt.hour\n",
    "data['dropoff_weekday'] = data['dropoff_datetime'].dt.day_name()\n",
    "data['dropoff_month'] = data['dropoff_datetime'].dt.month_name(locale = 'English')\n"
   ]
  },
  {
   "cell_type": "code",
   "execution_count": 19,
   "id": "9d2349fa",
   "metadata": {},
   "outputs": [
    {
     "data": {
      "text/plain": [
       "(array([16, 23, 18, 10,  6, 20, 17, 19, 22, 13,  1,  9,  3, 15,  8, 11, 14,\n",
       "        21, 12,  0,  2,  5,  7,  4], dtype=int64),\n",
       " array(['Monday', 'Friday', 'Sunday', 'Tuesday', 'Wednesday', 'Thursday',\n",
       "        'Saturday'], dtype=object),\n",
       " array(['February', 'March', 'January', 'April', 'June', 'May', 'July'],\n",
       "       dtype=object))"
      ]
     },
     "execution_count": 19,
     "metadata": {},
     "output_type": "execute_result"
    }
   ],
   "source": [
    "#inspecting the uniqueness of each data and they all make sense giving the findings and experience from above\n",
    "data['dropoff_hour'].unique(), data['dropoff_weekday'].unique(), data['dropoff_month'].unique()"
   ]
  },
  {
   "cell_type": "code",
   "execution_count": 20,
   "id": "9c467415",
   "metadata": {},
   "outputs": [
    {
     "data": {
      "text/html": [
       "<div>\n",
       "<style scoped>\n",
       "    .dataframe tbody tr th:only-of-type {\n",
       "        vertical-align: middle;\n",
       "    }\n",
       "\n",
       "    .dataframe tbody tr th {\n",
       "        vertical-align: top;\n",
       "    }\n",
       "\n",
       "    .dataframe thead th {\n",
       "        text-align: right;\n",
       "    }\n",
       "</style>\n",
       "<table border=\"1\" class=\"dataframe\">\n",
       "  <thead>\n",
       "    <tr style=\"text-align: right;\">\n",
       "      <th></th>\n",
       "      <th>id</th>\n",
       "      <th>vendor_id</th>\n",
       "      <th>pickup_datetime</th>\n",
       "      <th>dropoff_datetime</th>\n",
       "      <th>passenger_count</th>\n",
       "      <th>pickup_longitude</th>\n",
       "      <th>pickup_latitude</th>\n",
       "      <th>dropoff_longitude</th>\n",
       "      <th>dropoff_latitude</th>\n",
       "      <th>store_and_fwd_flag</th>\n",
       "      <th>trip_duration</th>\n",
       "      <th>pickup_hour</th>\n",
       "      <th>pickup_weekday</th>\n",
       "      <th>pickup_month</th>\n",
       "      <th>dropoff_hour</th>\n",
       "      <th>dropoff_weekday</th>\n",
       "      <th>dropoff_month</th>\n",
       "    </tr>\n",
       "  </thead>\n",
       "  <tbody>\n",
       "    <tr>\n",
       "      <th>0</th>\n",
       "      <td>id1080784</td>\n",
       "      <td>2</td>\n",
       "      <td>2016-02-29 16:40:21</td>\n",
       "      <td>2016-02-29 16:47:01</td>\n",
       "      <td>1</td>\n",
       "      <td>-73.953918</td>\n",
       "      <td>40.778873</td>\n",
       "      <td>-73.963875</td>\n",
       "      <td>40.771164</td>\n",
       "      <td>N</td>\n",
       "      <td>400</td>\n",
       "      <td>16</td>\n",
       "      <td>Monday</td>\n",
       "      <td>February</td>\n",
       "      <td>16</td>\n",
       "      <td>Monday</td>\n",
       "      <td>February</td>\n",
       "    </tr>\n",
       "    <tr>\n",
       "      <th>1</th>\n",
       "      <td>id0889885</td>\n",
       "      <td>1</td>\n",
       "      <td>2016-03-11 23:35:37</td>\n",
       "      <td>2016-03-11 23:53:57</td>\n",
       "      <td>2</td>\n",
       "      <td>-73.988312</td>\n",
       "      <td>40.731743</td>\n",
       "      <td>-73.994751</td>\n",
       "      <td>40.694931</td>\n",
       "      <td>N</td>\n",
       "      <td>1100</td>\n",
       "      <td>23</td>\n",
       "      <td>Friday</td>\n",
       "      <td>March</td>\n",
       "      <td>23</td>\n",
       "      <td>Friday</td>\n",
       "      <td>March</td>\n",
       "    </tr>\n",
       "    <tr>\n",
       "      <th>2</th>\n",
       "      <td>id0857912</td>\n",
       "      <td>2</td>\n",
       "      <td>2016-02-21 17:59:33</td>\n",
       "      <td>2016-02-21 18:26:48</td>\n",
       "      <td>2</td>\n",
       "      <td>-73.997314</td>\n",
       "      <td>40.721458</td>\n",
       "      <td>-73.948029</td>\n",
       "      <td>40.774918</td>\n",
       "      <td>N</td>\n",
       "      <td>1635</td>\n",
       "      <td>17</td>\n",
       "      <td>Sunday</td>\n",
       "      <td>February</td>\n",
       "      <td>18</td>\n",
       "      <td>Sunday</td>\n",
       "      <td>February</td>\n",
       "    </tr>\n",
       "    <tr>\n",
       "      <th>3</th>\n",
       "      <td>id3744273</td>\n",
       "      <td>2</td>\n",
       "      <td>2016-01-05 09:44:31</td>\n",
       "      <td>2016-01-05 10:03:32</td>\n",
       "      <td>6</td>\n",
       "      <td>-73.961670</td>\n",
       "      <td>40.759720</td>\n",
       "      <td>-73.956779</td>\n",
       "      <td>40.780628</td>\n",
       "      <td>N</td>\n",
       "      <td>1141</td>\n",
       "      <td>9</td>\n",
       "      <td>Tuesday</td>\n",
       "      <td>January</td>\n",
       "      <td>10</td>\n",
       "      <td>Tuesday</td>\n",
       "      <td>January</td>\n",
       "    </tr>\n",
       "    <tr>\n",
       "      <th>4</th>\n",
       "      <td>id0232939</td>\n",
       "      <td>1</td>\n",
       "      <td>2016-02-17 06:42:23</td>\n",
       "      <td>2016-02-17 06:56:31</td>\n",
       "      <td>1</td>\n",
       "      <td>-74.017120</td>\n",
       "      <td>40.708469</td>\n",
       "      <td>-73.988182</td>\n",
       "      <td>40.740631</td>\n",
       "      <td>N</td>\n",
       "      <td>848</td>\n",
       "      <td>6</td>\n",
       "      <td>Wednesday</td>\n",
       "      <td>February</td>\n",
       "      <td>6</td>\n",
       "      <td>Wednesday</td>\n",
       "      <td>February</td>\n",
       "    </tr>\n",
       "    <tr>\n",
       "      <th>5</th>\n",
       "      <td>id1918069</td>\n",
       "      <td>2</td>\n",
       "      <td>2016-02-14 18:31:42</td>\n",
       "      <td>2016-02-14 18:55:57</td>\n",
       "      <td>2</td>\n",
       "      <td>-73.993614</td>\n",
       "      <td>40.751884</td>\n",
       "      <td>-73.995422</td>\n",
       "      <td>40.723862</td>\n",
       "      <td>N</td>\n",
       "      <td>1455</td>\n",
       "      <td>18</td>\n",
       "      <td>Sunday</td>\n",
       "      <td>February</td>\n",
       "      <td>18</td>\n",
       "      <td>Sunday</td>\n",
       "      <td>February</td>\n",
       "    </tr>\n",
       "    <tr>\n",
       "      <th>6</th>\n",
       "      <td>id2429028</td>\n",
       "      <td>1</td>\n",
       "      <td>2016-04-20 20:30:14</td>\n",
       "      <td>2016-04-20 20:36:51</td>\n",
       "      <td>1</td>\n",
       "      <td>-73.965080</td>\n",
       "      <td>40.758915</td>\n",
       "      <td>-73.976807</td>\n",
       "      <td>40.764107</td>\n",
       "      <td>N</td>\n",
       "      <td>397</td>\n",
       "      <td>20</td>\n",
       "      <td>Wednesday</td>\n",
       "      <td>April</td>\n",
       "      <td>20</td>\n",
       "      <td>Wednesday</td>\n",
       "      <td>April</td>\n",
       "    </tr>\n",
       "    <tr>\n",
       "      <th>7</th>\n",
       "      <td>id1663798</td>\n",
       "      <td>2</td>\n",
       "      <td>2016-06-19 16:48:14</td>\n",
       "      <td>2016-06-19 17:06:35</td>\n",
       "      <td>1</td>\n",
       "      <td>-73.963890</td>\n",
       "      <td>40.765434</td>\n",
       "      <td>-73.872429</td>\n",
       "      <td>40.774200</td>\n",
       "      <td>N</td>\n",
       "      <td>1101</td>\n",
       "      <td>16</td>\n",
       "      <td>Sunday</td>\n",
       "      <td>June</td>\n",
       "      <td>17</td>\n",
       "      <td>Sunday</td>\n",
       "      <td>June</td>\n",
       "    </tr>\n",
       "    <tr>\n",
       "      <th>8</th>\n",
       "      <td>id2436943</td>\n",
       "      <td>2</td>\n",
       "      <td>2016-03-28 19:17:03</td>\n",
       "      <td>2016-03-28 19:48:29</td>\n",
       "      <td>2</td>\n",
       "      <td>-73.872887</td>\n",
       "      <td>40.774281</td>\n",
       "      <td>-73.979019</td>\n",
       "      <td>40.761879</td>\n",
       "      <td>N</td>\n",
       "      <td>1886</td>\n",
       "      <td>19</td>\n",
       "      <td>Monday</td>\n",
       "      <td>March</td>\n",
       "      <td>19</td>\n",
       "      <td>Monday</td>\n",
       "      <td>March</td>\n",
       "    </tr>\n",
       "    <tr>\n",
       "      <th>9</th>\n",
       "      <td>id2933909</td>\n",
       "      <td>1</td>\n",
       "      <td>2016-04-10 22:01:41</td>\n",
       "      <td>2016-04-10 22:25:30</td>\n",
       "      <td>1</td>\n",
       "      <td>-73.987823</td>\n",
       "      <td>40.740982</td>\n",
       "      <td>-73.999153</td>\n",
       "      <td>40.686451</td>\n",
       "      <td>N</td>\n",
       "      <td>1429</td>\n",
       "      <td>22</td>\n",
       "      <td>Sunday</td>\n",
       "      <td>April</td>\n",
       "      <td>22</td>\n",
       "      <td>Sunday</td>\n",
       "      <td>April</td>\n",
       "    </tr>\n",
       "    <tr>\n",
       "      <th>10</th>\n",
       "      <td>id2750279</td>\n",
       "      <td>1</td>\n",
       "      <td>2016-01-17 19:40:26</td>\n",
       "      <td>2016-01-17 19:49:13</td>\n",
       "      <td>1</td>\n",
       "      <td>-73.997116</td>\n",
       "      <td>40.722099</td>\n",
       "      <td>-74.006897</td>\n",
       "      <td>40.708321</td>\n",
       "      <td>N</td>\n",
       "      <td>527</td>\n",
       "      <td>19</td>\n",
       "      <td>Sunday</td>\n",
       "      <td>January</td>\n",
       "      <td>19</td>\n",
       "      <td>Sunday</td>\n",
       "      <td>January</td>\n",
       "    </tr>\n",
       "    <tr>\n",
       "      <th>11</th>\n",
       "      <td>id1338820</td>\n",
       "      <td>2</td>\n",
       "      <td>2016-04-22 23:33:30</td>\n",
       "      <td>2016-04-22 23:48:41</td>\n",
       "      <td>1</td>\n",
       "      <td>-74.003792</td>\n",
       "      <td>40.741829</td>\n",
       "      <td>-73.993340</td>\n",
       "      <td>40.721882</td>\n",
       "      <td>N</td>\n",
       "      <td>911</td>\n",
       "      <td>23</td>\n",
       "      <td>Friday</td>\n",
       "      <td>April</td>\n",
       "      <td>23</td>\n",
       "      <td>Friday</td>\n",
       "      <td>April</td>\n",
       "    </tr>\n",
       "    <tr>\n",
       "      <th>12</th>\n",
       "      <td>id0670329</td>\n",
       "      <td>2</td>\n",
       "      <td>2016-01-13 20:25:29</td>\n",
       "      <td>2016-01-13 20:30:40</td>\n",
       "      <td>1</td>\n",
       "      <td>-74.004822</td>\n",
       "      <td>40.728588</td>\n",
       "      <td>-73.997025</td>\n",
       "      <td>40.727123</td>\n",
       "      <td>N</td>\n",
       "      <td>311</td>\n",
       "      <td>20</td>\n",
       "      <td>Wednesday</td>\n",
       "      <td>January</td>\n",
       "      <td>20</td>\n",
       "      <td>Wednesday</td>\n",
       "      <td>January</td>\n",
       "    </tr>\n",
       "    <tr>\n",
       "      <th>13</th>\n",
       "      <td>id3131886</td>\n",
       "      <td>2</td>\n",
       "      <td>2016-06-26 13:39:30</td>\n",
       "      <td>2016-06-26 13:57:20</td>\n",
       "      <td>1</td>\n",
       "      <td>-73.988800</td>\n",
       "      <td>40.752747</td>\n",
       "      <td>-73.995949</td>\n",
       "      <td>40.767254</td>\n",
       "      <td>N</td>\n",
       "      <td>1070</td>\n",
       "      <td>13</td>\n",
       "      <td>Sunday</td>\n",
       "      <td>June</td>\n",
       "      <td>13</td>\n",
       "      <td>Sunday</td>\n",
       "      <td>June</td>\n",
       "    </tr>\n",
       "    <tr>\n",
       "      <th>14</th>\n",
       "      <td>id1054271</td>\n",
       "      <td>2</td>\n",
       "      <td>2016-03-17 20:35:44</td>\n",
       "      <td>2016-03-17 20:46:45</td>\n",
       "      <td>1</td>\n",
       "      <td>-73.994789</td>\n",
       "      <td>40.744511</td>\n",
       "      <td>-73.965744</td>\n",
       "      <td>40.754070</td>\n",
       "      <td>N</td>\n",
       "      <td>661</td>\n",
       "      <td>20</td>\n",
       "      <td>Thursday</td>\n",
       "      <td>March</td>\n",
       "      <td>20</td>\n",
       "      <td>Thursday</td>\n",
       "      <td>March</td>\n",
       "    </tr>\n",
       "    <tr>\n",
       "      <th>15</th>\n",
       "      <td>id2930166</td>\n",
       "      <td>2</td>\n",
       "      <td>2016-02-21 01:56:14</td>\n",
       "      <td>2016-02-22 01:52:18</td>\n",
       "      <td>1</td>\n",
       "      <td>-74.002876</td>\n",
       "      <td>40.734131</td>\n",
       "      <td>-73.955399</td>\n",
       "      <td>40.767502</td>\n",
       "      <td>N</td>\n",
       "      <td>86164</td>\n",
       "      <td>1</td>\n",
       "      <td>Sunday</td>\n",
       "      <td>February</td>\n",
       "      <td>1</td>\n",
       "      <td>Monday</td>\n",
       "      <td>February</td>\n",
       "    </tr>\n",
       "    <tr>\n",
       "      <th>16</th>\n",
       "      <td>id3867951</td>\n",
       "      <td>2</td>\n",
       "      <td>2016-04-13 22:27:11</td>\n",
       "      <td>2016-04-13 22:42:02</td>\n",
       "      <td>1</td>\n",
       "      <td>-73.979599</td>\n",
       "      <td>40.760658</td>\n",
       "      <td>-73.978386</td>\n",
       "      <td>40.729561</td>\n",
       "      <td>N</td>\n",
       "      <td>891</td>\n",
       "      <td>22</td>\n",
       "      <td>Wednesday</td>\n",
       "      <td>April</td>\n",
       "      <td>22</td>\n",
       "      <td>Wednesday</td>\n",
       "      <td>April</td>\n",
       "    </tr>\n",
       "    <tr>\n",
       "      <th>17</th>\n",
       "      <td>id1520195</td>\n",
       "      <td>2</td>\n",
       "      <td>2016-02-29 08:48:00</td>\n",
       "      <td>2016-02-29 09:13:47</td>\n",
       "      <td>1</td>\n",
       "      <td>-73.982536</td>\n",
       "      <td>40.745682</td>\n",
       "      <td>-74.011017</td>\n",
       "      <td>40.714664</td>\n",
       "      <td>N</td>\n",
       "      <td>1547</td>\n",
       "      <td>8</td>\n",
       "      <td>Monday</td>\n",
       "      <td>February</td>\n",
       "      <td>9</td>\n",
       "      <td>Monday</td>\n",
       "      <td>February</td>\n",
       "    </tr>\n",
       "    <tr>\n",
       "      <th>18</th>\n",
       "      <td>id0424659</td>\n",
       "      <td>2</td>\n",
       "      <td>2016-02-22 22:36:38</td>\n",
       "      <td>2016-02-22 22:48:35</td>\n",
       "      <td>3</td>\n",
       "      <td>-73.983482</td>\n",
       "      <td>40.755402</td>\n",
       "      <td>-73.946228</td>\n",
       "      <td>40.782341</td>\n",
       "      <td>N</td>\n",
       "      <td>717</td>\n",
       "      <td>22</td>\n",
       "      <td>Monday</td>\n",
       "      <td>February</td>\n",
       "      <td>22</td>\n",
       "      <td>Monday</td>\n",
       "      <td>February</td>\n",
       "    </tr>\n",
       "    <tr>\n",
       "      <th>19</th>\n",
       "      <td>id3128158</td>\n",
       "      <td>1</td>\n",
       "      <td>2016-04-19 21:52:54</td>\n",
       "      <td>2016-04-19 22:15:49</td>\n",
       "      <td>1</td>\n",
       "      <td>-73.949425</td>\n",
       "      <td>40.713921</td>\n",
       "      <td>-73.972275</td>\n",
       "      <td>40.755642</td>\n",
       "      <td>N</td>\n",
       "      <td>1375</td>\n",
       "      <td>21</td>\n",
       "      <td>Tuesday</td>\n",
       "      <td>April</td>\n",
       "      <td>22</td>\n",
       "      <td>Tuesday</td>\n",
       "      <td>April</td>\n",
       "    </tr>\n",
       "    <tr>\n",
       "      <th>20</th>\n",
       "      <td>id3331801</td>\n",
       "      <td>1</td>\n",
       "      <td>2016-03-20 03:37:31</td>\n",
       "      <td>2016-03-20 03:44:51</td>\n",
       "      <td>1</td>\n",
       "      <td>-74.000618</td>\n",
       "      <td>40.735916</td>\n",
       "      <td>-73.983040</td>\n",
       "      <td>40.738796</td>\n",
       "      <td>N</td>\n",
       "      <td>440</td>\n",
       "      <td>3</td>\n",
       "      <td>Sunday</td>\n",
       "      <td>March</td>\n",
       "      <td>3</td>\n",
       "      <td>Sunday</td>\n",
       "      <td>March</td>\n",
       "    </tr>\n",
       "    <tr>\n",
       "      <th>21</th>\n",
       "      <td>id2970074</td>\n",
       "      <td>1</td>\n",
       "      <td>2016-06-23 19:08:37</td>\n",
       "      <td>2016-06-23 19:40:54</td>\n",
       "      <td>1</td>\n",
       "      <td>-73.863251</td>\n",
       "      <td>40.769745</td>\n",
       "      <td>-73.980385</td>\n",
       "      <td>40.755665</td>\n",
       "      <td>N</td>\n",
       "      <td>1937</td>\n",
       "      <td>19</td>\n",
       "      <td>Thursday</td>\n",
       "      <td>June</td>\n",
       "      <td>19</td>\n",
       "      <td>Thursday</td>\n",
       "      <td>June</td>\n",
       "    </tr>\n",
       "    <tr>\n",
       "      <th>22</th>\n",
       "      <td>id1095273</td>\n",
       "      <td>2</td>\n",
       "      <td>2016-06-02 19:15:35</td>\n",
       "      <td>2016-06-02 19:47:20</td>\n",
       "      <td>6</td>\n",
       "      <td>-73.863464</td>\n",
       "      <td>40.769768</td>\n",
       "      <td>-73.972771</td>\n",
       "      <td>40.755131</td>\n",
       "      <td>N</td>\n",
       "      <td>1905</td>\n",
       "      <td>19</td>\n",
       "      <td>Thursday</td>\n",
       "      <td>June</td>\n",
       "      <td>19</td>\n",
       "      <td>Thursday</td>\n",
       "      <td>June</td>\n",
       "    </tr>\n",
       "    <tr>\n",
       "      <th>23</th>\n",
       "      <td>id2153065</td>\n",
       "      <td>1</td>\n",
       "      <td>2016-02-28 09:12:45</td>\n",
       "      <td>2016-02-28 09:18:10</td>\n",
       "      <td>1</td>\n",
       "      <td>-74.005257</td>\n",
       "      <td>40.720333</td>\n",
       "      <td>-74.006248</td>\n",
       "      <td>40.734516</td>\n",
       "      <td>N</td>\n",
       "      <td>325</td>\n",
       "      <td>9</td>\n",
       "      <td>Sunday</td>\n",
       "      <td>February</td>\n",
       "      <td>9</td>\n",
       "      <td>Sunday</td>\n",
       "      <td>February</td>\n",
       "    </tr>\n",
       "    <tr>\n",
       "      <th>24</th>\n",
       "      <td>id0797596</td>\n",
       "      <td>1</td>\n",
       "      <td>2016-03-24 15:26:04</td>\n",
       "      <td>2016-03-24 15:29:10</td>\n",
       "      <td>1</td>\n",
       "      <td>-73.960754</td>\n",
       "      <td>40.770302</td>\n",
       "      <td>-73.953957</td>\n",
       "      <td>40.778942</td>\n",
       "      <td>N</td>\n",
       "      <td>186</td>\n",
       "      <td>15</td>\n",
       "      <td>Thursday</td>\n",
       "      <td>March</td>\n",
       "      <td>15</td>\n",
       "      <td>Thursday</td>\n",
       "      <td>March</td>\n",
       "    </tr>\n",
       "    <tr>\n",
       "      <th>25</th>\n",
       "      <td>id1348092</td>\n",
       "      <td>2</td>\n",
       "      <td>2016-03-03 07:53:30</td>\n",
       "      <td>2016-03-03 08:00:15</td>\n",
       "      <td>1</td>\n",
       "      <td>-73.995392</td>\n",
       "      <td>40.734112</td>\n",
       "      <td>-73.985687</td>\n",
       "      <td>40.752579</td>\n",
       "      <td>N</td>\n",
       "      <td>405</td>\n",
       "      <td>7</td>\n",
       "      <td>Thursday</td>\n",
       "      <td>March</td>\n",
       "      <td>8</td>\n",
       "      <td>Thursday</td>\n",
       "      <td>March</td>\n",
       "    </tr>\n",
       "    <tr>\n",
       "      <th>26</th>\n",
       "      <td>id1766292</td>\n",
       "      <td>1</td>\n",
       "      <td>2016-06-26 14:50:05</td>\n",
       "      <td>2016-06-26 15:29:15</td>\n",
       "      <td>2</td>\n",
       "      <td>-74.000168</td>\n",
       "      <td>40.758141</td>\n",
       "      <td>-73.947266</td>\n",
       "      <td>40.764793</td>\n",
       "      <td>N</td>\n",
       "      <td>2350</td>\n",
       "      <td>14</td>\n",
       "      <td>Sunday</td>\n",
       "      <td>June</td>\n",
       "      <td>15</td>\n",
       "      <td>Sunday</td>\n",
       "      <td>June</td>\n",
       "    </tr>\n",
       "    <tr>\n",
       "      <th>27</th>\n",
       "      <td>id3742607</td>\n",
       "      <td>1</td>\n",
       "      <td>2016-01-22 17:47:13</td>\n",
       "      <td>2016-01-22 17:51:56</td>\n",
       "      <td>1</td>\n",
       "      <td>-73.958694</td>\n",
       "      <td>40.763828</td>\n",
       "      <td>-73.966682</td>\n",
       "      <td>40.764126</td>\n",
       "      <td>N</td>\n",
       "      <td>283</td>\n",
       "      <td>17</td>\n",
       "      <td>Friday</td>\n",
       "      <td>January</td>\n",
       "      <td>17</td>\n",
       "      <td>Friday</td>\n",
       "      <td>January</td>\n",
       "    </tr>\n",
       "    <tr>\n",
       "      <th>28</th>\n",
       "      <td>id2431017</td>\n",
       "      <td>2</td>\n",
       "      <td>2016-01-21 08:28:19</td>\n",
       "      <td>2016-01-21 08:49:36</td>\n",
       "      <td>1</td>\n",
       "      <td>-74.007500</td>\n",
       "      <td>40.715530</td>\n",
       "      <td>-73.978821</td>\n",
       "      <td>40.755909</td>\n",
       "      <td>N</td>\n",
       "      <td>1277</td>\n",
       "      <td>8</td>\n",
       "      <td>Thursday</td>\n",
       "      <td>January</td>\n",
       "      <td>8</td>\n",
       "      <td>Thursday</td>\n",
       "      <td>January</td>\n",
       "    </tr>\n",
       "    <tr>\n",
       "      <th>29</th>\n",
       "      <td>id2735992</td>\n",
       "      <td>1</td>\n",
       "      <td>2016-03-24 22:33:49</td>\n",
       "      <td>2016-03-24 22:39:09</td>\n",
       "      <td>2</td>\n",
       "      <td>-73.988205</td>\n",
       "      <td>40.738266</td>\n",
       "      <td>-73.985214</td>\n",
       "      <td>40.747520</td>\n",
       "      <td>N</td>\n",
       "      <td>320</td>\n",
       "      <td>22</td>\n",
       "      <td>Thursday</td>\n",
       "      <td>March</td>\n",
       "      <td>22</td>\n",
       "      <td>Thursday</td>\n",
       "      <td>March</td>\n",
       "    </tr>\n",
       "    <tr>\n",
       "      <th>30</th>\n",
       "      <td>id1508344</td>\n",
       "      <td>1</td>\n",
       "      <td>2016-06-07 09:22:55</td>\n",
       "      <td>2016-06-07 09:53:24</td>\n",
       "      <td>1</td>\n",
       "      <td>-73.975601</td>\n",
       "      <td>40.762810</td>\n",
       "      <td>-73.991211</td>\n",
       "      <td>40.750088</td>\n",
       "      <td>N</td>\n",
       "      <td>1829</td>\n",
       "      <td>9</td>\n",
       "      <td>Tuesday</td>\n",
       "      <td>June</td>\n",
       "      <td>9</td>\n",
       "      <td>Tuesday</td>\n",
       "      <td>June</td>\n",
       "    </tr>\n",
       "    <tr>\n",
       "      <th>31</th>\n",
       "      <td>id3967204</td>\n",
       "      <td>1</td>\n",
       "      <td>2016-03-14 13:42:55</td>\n",
       "      <td>2016-03-14 13:47:10</td>\n",
       "      <td>1</td>\n",
       "      <td>-73.994965</td>\n",
       "      <td>40.760303</td>\n",
       "      <td>-73.984848</td>\n",
       "      <td>40.767841</td>\n",
       "      <td>N</td>\n",
       "      <td>255</td>\n",
       "      <td>13</td>\n",
       "      <td>Monday</td>\n",
       "      <td>March</td>\n",
       "      <td>13</td>\n",
       "      <td>Monday</td>\n",
       "      <td>March</td>\n",
       "    </tr>\n",
       "    <tr>\n",
       "      <th>32</th>\n",
       "      <td>id2525756</td>\n",
       "      <td>2</td>\n",
       "      <td>2016-04-07 15:58:01</td>\n",
       "      <td>2016-04-07 16:15:55</td>\n",
       "      <td>1</td>\n",
       "      <td>-73.986809</td>\n",
       "      <td>40.761391</td>\n",
       "      <td>-73.961067</td>\n",
       "      <td>40.806622</td>\n",
       "      <td>N</td>\n",
       "      <td>1074</td>\n",
       "      <td>15</td>\n",
       "      <td>Thursday</td>\n",
       "      <td>April</td>\n",
       "      <td>16</td>\n",
       "      <td>Thursday</td>\n",
       "      <td>April</td>\n",
       "    </tr>\n",
       "    <tr>\n",
       "      <th>33</th>\n",
       "      <td>id2833454</td>\n",
       "      <td>1</td>\n",
       "      <td>2016-01-09 16:09:40</td>\n",
       "      <td>2016-01-09 16:12:17</td>\n",
       "      <td>1</td>\n",
       "      <td>-73.998154</td>\n",
       "      <td>40.740570</td>\n",
       "      <td>-74.004227</td>\n",
       "      <td>40.747536</td>\n",
       "      <td>N</td>\n",
       "      <td>157</td>\n",
       "      <td>16</td>\n",
       "      <td>Saturday</td>\n",
       "      <td>January</td>\n",
       "      <td>16</td>\n",
       "      <td>Saturday</td>\n",
       "      <td>January</td>\n",
       "    </tr>\n",
       "    <tr>\n",
       "      <th>34</th>\n",
       "      <td>id3899144</td>\n",
       "      <td>2</td>\n",
       "      <td>2016-04-08 08:52:36</td>\n",
       "      <td>2016-04-08 09:09:39</td>\n",
       "      <td>1</td>\n",
       "      <td>-73.965599</td>\n",
       "      <td>40.754662</td>\n",
       "      <td>-73.957687</td>\n",
       "      <td>40.780090</td>\n",
       "      <td>N</td>\n",
       "      <td>1023</td>\n",
       "      <td>8</td>\n",
       "      <td>Friday</td>\n",
       "      <td>April</td>\n",
       "      <td>9</td>\n",
       "      <td>Friday</td>\n",
       "      <td>April</td>\n",
       "    </tr>\n",
       "    <tr>\n",
       "      <th>35</th>\n",
       "      <td>id3544774</td>\n",
       "      <td>2</td>\n",
       "      <td>2016-03-30 18:18:40</td>\n",
       "      <td>2016-03-30 18:49:28</td>\n",
       "      <td>6</td>\n",
       "      <td>-73.970161</td>\n",
       "      <td>40.758610</td>\n",
       "      <td>-73.990288</td>\n",
       "      <td>40.756519</td>\n",
       "      <td>N</td>\n",
       "      <td>1848</td>\n",
       "      <td>18</td>\n",
       "      <td>Wednesday</td>\n",
       "      <td>March</td>\n",
       "      <td>18</td>\n",
       "      <td>Wednesday</td>\n",
       "      <td>March</td>\n",
       "    </tr>\n",
       "    <tr>\n",
       "      <th>36</th>\n",
       "      <td>id3971051</td>\n",
       "      <td>2</td>\n",
       "      <td>2016-02-24 11:18:27</td>\n",
       "      <td>2016-02-24 11:23:25</td>\n",
       "      <td>1</td>\n",
       "      <td>-73.980652</td>\n",
       "      <td>40.783169</td>\n",
       "      <td>-73.987320</td>\n",
       "      <td>40.775272</td>\n",
       "      <td>N</td>\n",
       "      <td>298</td>\n",
       "      <td>11</td>\n",
       "      <td>Wednesday</td>\n",
       "      <td>February</td>\n",
       "      <td>11</td>\n",
       "      <td>Wednesday</td>\n",
       "      <td>February</td>\n",
       "    </tr>\n",
       "    <tr>\n",
       "      <th>37</th>\n",
       "      <td>id3803118</td>\n",
       "      <td>1</td>\n",
       "      <td>2016-03-31 13:14:47</td>\n",
       "      <td>2016-03-31 13:20:26</td>\n",
       "      <td>1</td>\n",
       "      <td>-73.982811</td>\n",
       "      <td>40.751308</td>\n",
       "      <td>-73.985420</td>\n",
       "      <td>40.748230</td>\n",
       "      <td>N</td>\n",
       "      <td>339</td>\n",
       "      <td>13</td>\n",
       "      <td>Thursday</td>\n",
       "      <td>March</td>\n",
       "      <td>13</td>\n",
       "      <td>Thursday</td>\n",
       "      <td>March</td>\n",
       "    </tr>\n",
       "    <tr>\n",
       "      <th>38</th>\n",
       "      <td>id0206545</td>\n",
       "      <td>1</td>\n",
       "      <td>2016-03-22 20:44:14</td>\n",
       "      <td>2016-03-22 20:51:44</td>\n",
       "      <td>4</td>\n",
       "      <td>-74.002914</td>\n",
       "      <td>40.750496</td>\n",
       "      <td>-73.993385</td>\n",
       "      <td>40.743061</td>\n",
       "      <td>N</td>\n",
       "      <td>450</td>\n",
       "      <td>20</td>\n",
       "      <td>Tuesday</td>\n",
       "      <td>March</td>\n",
       "      <td>20</td>\n",
       "      <td>Tuesday</td>\n",
       "      <td>March</td>\n",
       "    </tr>\n",
       "    <tr>\n",
       "      <th>39</th>\n",
       "      <td>id2649925</td>\n",
       "      <td>2</td>\n",
       "      <td>2016-01-04 19:10:00</td>\n",
       "      <td>2016-01-04 19:14:47</td>\n",
       "      <td>1</td>\n",
       "      <td>-73.971748</td>\n",
       "      <td>40.757706</td>\n",
       "      <td>-73.971939</td>\n",
       "      <td>40.765659</td>\n",
       "      <td>N</td>\n",
       "      <td>287</td>\n",
       "      <td>19</td>\n",
       "      <td>Monday</td>\n",
       "      <td>January</td>\n",
       "      <td>19</td>\n",
       "      <td>Monday</td>\n",
       "      <td>January</td>\n",
       "    </tr>\n",
       "    <tr>\n",
       "      <th>40</th>\n",
       "      <td>id1679612</td>\n",
       "      <td>2</td>\n",
       "      <td>2016-05-25 19:04:18</td>\n",
       "      <td>2016-05-25 19:34:53</td>\n",
       "      <td>1</td>\n",
       "      <td>-73.980789</td>\n",
       "      <td>40.760578</td>\n",
       "      <td>-73.944038</td>\n",
       "      <td>40.775940</td>\n",
       "      <td>N</td>\n",
       "      <td>1835</td>\n",
       "      <td>19</td>\n",
       "      <td>Wednesday</td>\n",
       "      <td>May</td>\n",
       "      <td>19</td>\n",
       "      <td>Wednesday</td>\n",
       "      <td>May</td>\n",
       "    </tr>\n",
       "    <tr>\n",
       "      <th>41</th>\n",
       "      <td>id0500763</td>\n",
       "      <td>1</td>\n",
       "      <td>2016-02-25 15:04:13</td>\n",
       "      <td>2016-02-25 15:13:33</td>\n",
       "      <td>2</td>\n",
       "      <td>-73.958382</td>\n",
       "      <td>40.760418</td>\n",
       "      <td>-73.968803</td>\n",
       "      <td>40.763573</td>\n",
       "      <td>N</td>\n",
       "      <td>560</td>\n",
       "      <td>15</td>\n",
       "      <td>Thursday</td>\n",
       "      <td>February</td>\n",
       "      <td>15</td>\n",
       "      <td>Thursday</td>\n",
       "      <td>February</td>\n",
       "    </tr>\n",
       "    <tr>\n",
       "      <th>42</th>\n",
       "      <td>id1100632</td>\n",
       "      <td>1</td>\n",
       "      <td>2016-03-02 16:29:40</td>\n",
       "      <td>2016-03-02 17:06:09</td>\n",
       "      <td>1</td>\n",
       "      <td>-73.997459</td>\n",
       "      <td>40.724735</td>\n",
       "      <td>-73.954414</td>\n",
       "      <td>40.669811</td>\n",
       "      <td>N</td>\n",
       "      <td>2189</td>\n",
       "      <td>16</td>\n",
       "      <td>Wednesday</td>\n",
       "      <td>March</td>\n",
       "      <td>17</td>\n",
       "      <td>Wednesday</td>\n",
       "      <td>March</td>\n",
       "    </tr>\n",
       "    <tr>\n",
       "      <th>43</th>\n",
       "      <td>id1216289</td>\n",
       "      <td>2</td>\n",
       "      <td>2016-04-20 14:29:28</td>\n",
       "      <td>2016-04-20 14:35:14</td>\n",
       "      <td>5</td>\n",
       "      <td>-73.992958</td>\n",
       "      <td>40.737396</td>\n",
       "      <td>-74.000015</td>\n",
       "      <td>40.734047</td>\n",
       "      <td>N</td>\n",
       "      <td>346</td>\n",
       "      <td>14</td>\n",
       "      <td>Wednesday</td>\n",
       "      <td>April</td>\n",
       "      <td>14</td>\n",
       "      <td>Wednesday</td>\n",
       "      <td>April</td>\n",
       "    </tr>\n",
       "    <tr>\n",
       "      <th>44</th>\n",
       "      <td>id2271116</td>\n",
       "      <td>2</td>\n",
       "      <td>2016-06-15 12:42:42</td>\n",
       "      <td>2016-06-15 13:06:44</td>\n",
       "      <td>1</td>\n",
       "      <td>-73.979912</td>\n",
       "      <td>40.775970</td>\n",
       "      <td>-73.971245</td>\n",
       "      <td>40.756489</td>\n",
       "      <td>N</td>\n",
       "      <td>1442</td>\n",
       "      <td>12</td>\n",
       "      <td>Wednesday</td>\n",
       "      <td>June</td>\n",
       "      <td>13</td>\n",
       "      <td>Wednesday</td>\n",
       "      <td>June</td>\n",
       "    </tr>\n",
       "    <tr>\n",
       "      <th>45</th>\n",
       "      <td>id3281604</td>\n",
       "      <td>1</td>\n",
       "      <td>2016-06-03 13:04:51</td>\n",
       "      <td>2016-06-03 13:14:00</td>\n",
       "      <td>1</td>\n",
       "      <td>-73.979271</td>\n",
       "      <td>40.737194</td>\n",
       "      <td>-73.991776</td>\n",
       "      <td>40.742451</td>\n",
       "      <td>N</td>\n",
       "      <td>549</td>\n",
       "      <td>13</td>\n",
       "      <td>Friday</td>\n",
       "      <td>June</td>\n",
       "      <td>13</td>\n",
       "      <td>Friday</td>\n",
       "      <td>June</td>\n",
       "    </tr>\n",
       "    <tr>\n",
       "      <th>46</th>\n",
       "      <td>id2681567</td>\n",
       "      <td>2</td>\n",
       "      <td>2016-01-11 17:32:35</td>\n",
       "      <td>2016-01-11 17:56:15</td>\n",
       "      <td>1</td>\n",
       "      <td>-73.950935</td>\n",
       "      <td>40.785969</td>\n",
       "      <td>-73.984047</td>\n",
       "      <td>40.742867</td>\n",
       "      <td>N</td>\n",
       "      <td>1420</td>\n",
       "      <td>17</td>\n",
       "      <td>Monday</td>\n",
       "      <td>January</td>\n",
       "      <td>17</td>\n",
       "      <td>Monday</td>\n",
       "      <td>January</td>\n",
       "    </tr>\n",
       "    <tr>\n",
       "      <th>47</th>\n",
       "      <td>id1294417</td>\n",
       "      <td>1</td>\n",
       "      <td>2016-05-31 12:56:43</td>\n",
       "      <td>2016-05-31 13:22:29</td>\n",
       "      <td>1</td>\n",
       "      <td>-73.973366</td>\n",
       "      <td>40.746151</td>\n",
       "      <td>-73.972824</td>\n",
       "      <td>40.790314</td>\n",
       "      <td>N</td>\n",
       "      <td>1546</td>\n",
       "      <td>12</td>\n",
       "      <td>Tuesday</td>\n",
       "      <td>May</td>\n",
       "      <td>13</td>\n",
       "      <td>Tuesday</td>\n",
       "      <td>May</td>\n",
       "    </tr>\n",
       "    <tr>\n",
       "      <th>48</th>\n",
       "      <td>id0255840</td>\n",
       "      <td>2</td>\n",
       "      <td>2016-04-17 14:04:06</td>\n",
       "      <td>2016-04-17 14:09:19</td>\n",
       "      <td>1</td>\n",
       "      <td>-73.986588</td>\n",
       "      <td>40.751381</td>\n",
       "      <td>-73.985527</td>\n",
       "      <td>40.758018</td>\n",
       "      <td>N</td>\n",
       "      <td>313</td>\n",
       "      <td>14</td>\n",
       "      <td>Sunday</td>\n",
       "      <td>April</td>\n",
       "      <td>14</td>\n",
       "      <td>Sunday</td>\n",
       "      <td>April</td>\n",
       "    </tr>\n",
       "    <tr>\n",
       "      <th>49</th>\n",
       "      <td>id3094049</td>\n",
       "      <td>2</td>\n",
       "      <td>2016-01-16 20:04:01</td>\n",
       "      <td>2016-01-16 20:10:13</td>\n",
       "      <td>1</td>\n",
       "      <td>-73.968102</td>\n",
       "      <td>40.755405</td>\n",
       "      <td>-73.948532</td>\n",
       "      <td>40.777981</td>\n",
       "      <td>N</td>\n",
       "      <td>372</td>\n",
       "      <td>20</td>\n",
       "      <td>Saturday</td>\n",
       "      <td>January</td>\n",
       "      <td>20</td>\n",
       "      <td>Saturday</td>\n",
       "      <td>January</td>\n",
       "    </tr>\n",
       "  </tbody>\n",
       "</table>\n",
       "</div>"
      ],
      "text/plain": [
       "           id vendor_id     pickup_datetime    dropoff_datetime  \\\n",
       "0   id1080784         2 2016-02-29 16:40:21 2016-02-29 16:47:01   \n",
       "1   id0889885         1 2016-03-11 23:35:37 2016-03-11 23:53:57   \n",
       "2   id0857912         2 2016-02-21 17:59:33 2016-02-21 18:26:48   \n",
       "3   id3744273         2 2016-01-05 09:44:31 2016-01-05 10:03:32   \n",
       "4   id0232939         1 2016-02-17 06:42:23 2016-02-17 06:56:31   \n",
       "5   id1918069         2 2016-02-14 18:31:42 2016-02-14 18:55:57   \n",
       "6   id2429028         1 2016-04-20 20:30:14 2016-04-20 20:36:51   \n",
       "7   id1663798         2 2016-06-19 16:48:14 2016-06-19 17:06:35   \n",
       "8   id2436943         2 2016-03-28 19:17:03 2016-03-28 19:48:29   \n",
       "9   id2933909         1 2016-04-10 22:01:41 2016-04-10 22:25:30   \n",
       "10  id2750279         1 2016-01-17 19:40:26 2016-01-17 19:49:13   \n",
       "11  id1338820         2 2016-04-22 23:33:30 2016-04-22 23:48:41   \n",
       "12  id0670329         2 2016-01-13 20:25:29 2016-01-13 20:30:40   \n",
       "13  id3131886         2 2016-06-26 13:39:30 2016-06-26 13:57:20   \n",
       "14  id1054271         2 2016-03-17 20:35:44 2016-03-17 20:46:45   \n",
       "15  id2930166         2 2016-02-21 01:56:14 2016-02-22 01:52:18   \n",
       "16  id3867951         2 2016-04-13 22:27:11 2016-04-13 22:42:02   \n",
       "17  id1520195         2 2016-02-29 08:48:00 2016-02-29 09:13:47   \n",
       "18  id0424659         2 2016-02-22 22:36:38 2016-02-22 22:48:35   \n",
       "19  id3128158         1 2016-04-19 21:52:54 2016-04-19 22:15:49   \n",
       "20  id3331801         1 2016-03-20 03:37:31 2016-03-20 03:44:51   \n",
       "21  id2970074         1 2016-06-23 19:08:37 2016-06-23 19:40:54   \n",
       "22  id1095273         2 2016-06-02 19:15:35 2016-06-02 19:47:20   \n",
       "23  id2153065         1 2016-02-28 09:12:45 2016-02-28 09:18:10   \n",
       "24  id0797596         1 2016-03-24 15:26:04 2016-03-24 15:29:10   \n",
       "25  id1348092         2 2016-03-03 07:53:30 2016-03-03 08:00:15   \n",
       "26  id1766292         1 2016-06-26 14:50:05 2016-06-26 15:29:15   \n",
       "27  id3742607         1 2016-01-22 17:47:13 2016-01-22 17:51:56   \n",
       "28  id2431017         2 2016-01-21 08:28:19 2016-01-21 08:49:36   \n",
       "29  id2735992         1 2016-03-24 22:33:49 2016-03-24 22:39:09   \n",
       "30  id1508344         1 2016-06-07 09:22:55 2016-06-07 09:53:24   \n",
       "31  id3967204         1 2016-03-14 13:42:55 2016-03-14 13:47:10   \n",
       "32  id2525756         2 2016-04-07 15:58:01 2016-04-07 16:15:55   \n",
       "33  id2833454         1 2016-01-09 16:09:40 2016-01-09 16:12:17   \n",
       "34  id3899144         2 2016-04-08 08:52:36 2016-04-08 09:09:39   \n",
       "35  id3544774         2 2016-03-30 18:18:40 2016-03-30 18:49:28   \n",
       "36  id3971051         2 2016-02-24 11:18:27 2016-02-24 11:23:25   \n",
       "37  id3803118         1 2016-03-31 13:14:47 2016-03-31 13:20:26   \n",
       "38  id0206545         1 2016-03-22 20:44:14 2016-03-22 20:51:44   \n",
       "39  id2649925         2 2016-01-04 19:10:00 2016-01-04 19:14:47   \n",
       "40  id1679612         2 2016-05-25 19:04:18 2016-05-25 19:34:53   \n",
       "41  id0500763         1 2016-02-25 15:04:13 2016-02-25 15:13:33   \n",
       "42  id1100632         1 2016-03-02 16:29:40 2016-03-02 17:06:09   \n",
       "43  id1216289         2 2016-04-20 14:29:28 2016-04-20 14:35:14   \n",
       "44  id2271116         2 2016-06-15 12:42:42 2016-06-15 13:06:44   \n",
       "45  id3281604         1 2016-06-03 13:04:51 2016-06-03 13:14:00   \n",
       "46  id2681567         2 2016-01-11 17:32:35 2016-01-11 17:56:15   \n",
       "47  id1294417         1 2016-05-31 12:56:43 2016-05-31 13:22:29   \n",
       "48  id0255840         2 2016-04-17 14:04:06 2016-04-17 14:09:19   \n",
       "49  id3094049         2 2016-01-16 20:04:01 2016-01-16 20:10:13   \n",
       "\n",
       "    passenger_count  pickup_longitude  pickup_latitude  dropoff_longitude  \\\n",
       "0                 1        -73.953918        40.778873         -73.963875   \n",
       "1                 2        -73.988312        40.731743         -73.994751   \n",
       "2                 2        -73.997314        40.721458         -73.948029   \n",
       "3                 6        -73.961670        40.759720         -73.956779   \n",
       "4                 1        -74.017120        40.708469         -73.988182   \n",
       "5                 2        -73.993614        40.751884         -73.995422   \n",
       "6                 1        -73.965080        40.758915         -73.976807   \n",
       "7                 1        -73.963890        40.765434         -73.872429   \n",
       "8                 2        -73.872887        40.774281         -73.979019   \n",
       "9                 1        -73.987823        40.740982         -73.999153   \n",
       "10                1        -73.997116        40.722099         -74.006897   \n",
       "11                1        -74.003792        40.741829         -73.993340   \n",
       "12                1        -74.004822        40.728588         -73.997025   \n",
       "13                1        -73.988800        40.752747         -73.995949   \n",
       "14                1        -73.994789        40.744511         -73.965744   \n",
       "15                1        -74.002876        40.734131         -73.955399   \n",
       "16                1        -73.979599        40.760658         -73.978386   \n",
       "17                1        -73.982536        40.745682         -74.011017   \n",
       "18                3        -73.983482        40.755402         -73.946228   \n",
       "19                1        -73.949425        40.713921         -73.972275   \n",
       "20                1        -74.000618        40.735916         -73.983040   \n",
       "21                1        -73.863251        40.769745         -73.980385   \n",
       "22                6        -73.863464        40.769768         -73.972771   \n",
       "23                1        -74.005257        40.720333         -74.006248   \n",
       "24                1        -73.960754        40.770302         -73.953957   \n",
       "25                1        -73.995392        40.734112         -73.985687   \n",
       "26                2        -74.000168        40.758141         -73.947266   \n",
       "27                1        -73.958694        40.763828         -73.966682   \n",
       "28                1        -74.007500        40.715530         -73.978821   \n",
       "29                2        -73.988205        40.738266         -73.985214   \n",
       "30                1        -73.975601        40.762810         -73.991211   \n",
       "31                1        -73.994965        40.760303         -73.984848   \n",
       "32                1        -73.986809        40.761391         -73.961067   \n",
       "33                1        -73.998154        40.740570         -74.004227   \n",
       "34                1        -73.965599        40.754662         -73.957687   \n",
       "35                6        -73.970161        40.758610         -73.990288   \n",
       "36                1        -73.980652        40.783169         -73.987320   \n",
       "37                1        -73.982811        40.751308         -73.985420   \n",
       "38                4        -74.002914        40.750496         -73.993385   \n",
       "39                1        -73.971748        40.757706         -73.971939   \n",
       "40                1        -73.980789        40.760578         -73.944038   \n",
       "41                2        -73.958382        40.760418         -73.968803   \n",
       "42                1        -73.997459        40.724735         -73.954414   \n",
       "43                5        -73.992958        40.737396         -74.000015   \n",
       "44                1        -73.979912        40.775970         -73.971245   \n",
       "45                1        -73.979271        40.737194         -73.991776   \n",
       "46                1        -73.950935        40.785969         -73.984047   \n",
       "47                1        -73.973366        40.746151         -73.972824   \n",
       "48                1        -73.986588        40.751381         -73.985527   \n",
       "49                1        -73.968102        40.755405         -73.948532   \n",
       "\n",
       "    dropoff_latitude store_and_fwd_flag  trip_duration  pickup_hour  \\\n",
       "0          40.771164                  N            400           16   \n",
       "1          40.694931                  N           1100           23   \n",
       "2          40.774918                  N           1635           17   \n",
       "3          40.780628                  N           1141            9   \n",
       "4          40.740631                  N            848            6   \n",
       "5          40.723862                  N           1455           18   \n",
       "6          40.764107                  N            397           20   \n",
       "7          40.774200                  N           1101           16   \n",
       "8          40.761879                  N           1886           19   \n",
       "9          40.686451                  N           1429           22   \n",
       "10         40.708321                  N            527           19   \n",
       "11         40.721882                  N            911           23   \n",
       "12         40.727123                  N            311           20   \n",
       "13         40.767254                  N           1070           13   \n",
       "14         40.754070                  N            661           20   \n",
       "15         40.767502                  N          86164            1   \n",
       "16         40.729561                  N            891           22   \n",
       "17         40.714664                  N           1547            8   \n",
       "18         40.782341                  N            717           22   \n",
       "19         40.755642                  N           1375           21   \n",
       "20         40.738796                  N            440            3   \n",
       "21         40.755665                  N           1937           19   \n",
       "22         40.755131                  N           1905           19   \n",
       "23         40.734516                  N            325            9   \n",
       "24         40.778942                  N            186           15   \n",
       "25         40.752579                  N            405            7   \n",
       "26         40.764793                  N           2350           14   \n",
       "27         40.764126                  N            283           17   \n",
       "28         40.755909                  N           1277            8   \n",
       "29         40.747520                  N            320           22   \n",
       "30         40.750088                  N           1829            9   \n",
       "31         40.767841                  N            255           13   \n",
       "32         40.806622                  N           1074           15   \n",
       "33         40.747536                  N            157           16   \n",
       "34         40.780090                  N           1023            8   \n",
       "35         40.756519                  N           1848           18   \n",
       "36         40.775272                  N            298           11   \n",
       "37         40.748230                  N            339           13   \n",
       "38         40.743061                  N            450           20   \n",
       "39         40.765659                  N            287           19   \n",
       "40         40.775940                  N           1835           19   \n",
       "41         40.763573                  N            560           15   \n",
       "42         40.669811                  N           2189           16   \n",
       "43         40.734047                  N            346           14   \n",
       "44         40.756489                  N           1442           12   \n",
       "45         40.742451                  N            549           13   \n",
       "46         40.742867                  N           1420           17   \n",
       "47         40.790314                  N           1546           12   \n",
       "48         40.758018                  N            313           14   \n",
       "49         40.777981                  N            372           20   \n",
       "\n",
       "   pickup_weekday pickup_month  dropoff_hour dropoff_weekday dropoff_month  \n",
       "0          Monday     February            16          Monday      February  \n",
       "1          Friday        March            23          Friday         March  \n",
       "2          Sunday     February            18          Sunday      February  \n",
       "3         Tuesday      January            10         Tuesday       January  \n",
       "4       Wednesday     February             6       Wednesday      February  \n",
       "5          Sunday     February            18          Sunday      February  \n",
       "6       Wednesday        April            20       Wednesday         April  \n",
       "7          Sunday         June            17          Sunday          June  \n",
       "8          Monday        March            19          Monday         March  \n",
       "9          Sunday        April            22          Sunday         April  \n",
       "10         Sunday      January            19          Sunday       January  \n",
       "11         Friday        April            23          Friday         April  \n",
       "12      Wednesday      January            20       Wednesday       January  \n",
       "13         Sunday         June            13          Sunday          June  \n",
       "14       Thursday        March            20        Thursday         March  \n",
       "15         Sunday     February             1          Monday      February  \n",
       "16      Wednesday        April            22       Wednesday         April  \n",
       "17         Monday     February             9          Monday      February  \n",
       "18         Monday     February            22          Monday      February  \n",
       "19        Tuesday        April            22         Tuesday         April  \n",
       "20         Sunday        March             3          Sunday         March  \n",
       "21       Thursday         June            19        Thursday          June  \n",
       "22       Thursday         June            19        Thursday          June  \n",
       "23         Sunday     February             9          Sunday      February  \n",
       "24       Thursday        March            15        Thursday         March  \n",
       "25       Thursday        March             8        Thursday         March  \n",
       "26         Sunday         June            15          Sunday          June  \n",
       "27         Friday      January            17          Friday       January  \n",
       "28       Thursday      January             8        Thursday       January  \n",
       "29       Thursday        March            22        Thursday         March  \n",
       "30        Tuesday         June             9         Tuesday          June  \n",
       "31         Monday        March            13          Monday         March  \n",
       "32       Thursday        April            16        Thursday         April  \n",
       "33       Saturday      January            16        Saturday       January  \n",
       "34         Friday        April             9          Friday         April  \n",
       "35      Wednesday        March            18       Wednesday         March  \n",
       "36      Wednesday     February            11       Wednesday      February  \n",
       "37       Thursday        March            13        Thursday         March  \n",
       "38        Tuesday        March            20         Tuesday         March  \n",
       "39         Monday      January            19          Monday       January  \n",
       "40      Wednesday          May            19       Wednesday           May  \n",
       "41       Thursday     February            15        Thursday      February  \n",
       "42      Wednesday        March            17       Wednesday         March  \n",
       "43      Wednesday        April            14       Wednesday         April  \n",
       "44      Wednesday         June            13       Wednesday          June  \n",
       "45         Friday         June            13          Friday          June  \n",
       "46         Monday      January            17          Monday       January  \n",
       "47        Tuesday          May            13         Tuesday           May  \n",
       "48         Sunday        April            14          Sunday         April  \n",
       "49       Saturday      January            20        Saturday       January  "
      ]
     },
     "execution_count": 20,
     "metadata": {},
     "output_type": "execute_result"
    }
   ],
   "source": [
    "data.head(50)"
   ]
  },
  {
   "cell_type": "markdown",
   "id": "6f756f18",
   "metadata": {},
   "source": [
    "## explore categorical data"
   ]
  },
  {
   "cell_type": "code",
   "execution_count": 21,
   "id": "0da92e36",
   "metadata": {},
   "outputs": [],
   "source": [
    "import seaborn as sns"
   ]
  },
  {
   "cell_type": "code",
   "execution_count": 22,
   "id": "c524afc5",
   "metadata": {},
   "outputs": [
    {
     "data": {
      "text/plain": [
       "2    0.54\n",
       "1    0.46\n",
       "Name: vendor_id, dtype: float64"
      ]
     },
     "execution_count": 22,
     "metadata": {},
     "output_type": "execute_result"
    }
   ],
   "source": [
    "data.vendor_id.value_counts(normalize=True).round(2)"
   ]
  },
  {
   "cell_type": "code",
   "execution_count": 23,
   "id": "bd5f5457",
   "metadata": {},
   "outputs": [
    {
     "data": {
      "text/plain": [
       "1    0.709447\n",
       "2    0.144102\n",
       "5    0.053373\n",
       "3    0.040712\n",
       "6    0.033054\n",
       "4    0.019264\n",
       "0    0.000045\n",
       "7    0.000001\n",
       "9    0.000001\n",
       "Name: passenger_count, dtype: float64"
      ]
     },
     "execution_count": 23,
     "metadata": {},
     "output_type": "execute_result"
    }
   ],
   "source": [
    "data.passenger_count.value_counts(normalize=True)"
   ]
  },
  {
   "cell_type": "code",
   "execution_count": 24,
   "id": "270abe59",
   "metadata": {},
   "outputs": [
    {
     "data": {
      "text/plain": [
       "Index(['id', 'vendor_id', 'pickup_datetime', 'dropoff_datetime',\n",
       "       'passenger_count', 'pickup_longitude', 'pickup_latitude',\n",
       "       'dropoff_longitude', 'dropoff_latitude', 'store_and_fwd_flag',\n",
       "       'trip_duration', 'pickup_hour', 'pickup_weekday', 'pickup_month',\n",
       "       'dropoff_hour', 'dropoff_weekday', 'dropoff_month'],\n",
       "      dtype='object')"
      ]
     },
     "execution_count": 24,
     "metadata": {},
     "output_type": "execute_result"
    }
   ],
   "source": [
    "data.columns"
   ]
  },
  {
   "cell_type": "code",
   "execution_count": 25,
   "id": "f26a98ca",
   "metadata": {},
   "outputs": [
    {
     "data": {
      "text/plain": [
       "18    0.06\n",
       "19    0.06\n",
       "20    0.06\n",
       "21    0.06\n",
       "22    0.06\n",
       "17    0.05\n",
       "14    0.05\n",
       "12    0.05\n",
       "15    0.05\n",
       "13    0.05\n",
       "23    0.05\n",
       "11    0.05\n",
       "9     0.05\n",
       "8     0.05\n",
       "10    0.04\n",
       "16    0.04\n",
       "7     0.04\n",
       "0     0.04\n",
       "1     0.03\n",
       "6     0.02\n",
       "2     0.02\n",
       "3     0.01\n",
       "4     0.01\n",
       "5     0.01\n",
       "Name: pickup_hour, dtype: float64"
      ]
     },
     "execution_count": 25,
     "metadata": {},
     "output_type": "execute_result"
    }
   ],
   "source": [
    "data.pickup_hour.value_counts(normalize=True).round(2)"
   ]
  },
  {
   "cell_type": "code",
   "execution_count": 26,
   "id": "ac0e603f",
   "metadata": {},
   "outputs": [
    {
     "data": {
      "text/plain": [
       "Friday       0.15\n",
       "Saturday     0.15\n",
       "Thursday     0.15\n",
       "Wednesday    0.14\n",
       "Tuesday      0.14\n",
       "Sunday       0.13\n",
       "Monday       0.13\n",
       "Name: pickup_weekday, dtype: float64"
      ]
     },
     "execution_count": 26,
     "metadata": {},
     "output_type": "execute_result"
    }
   ],
   "source": [
    "data.pickup_weekday.value_counts(normalize=True).round(2)"
   ]
  },
  {
   "cell_type": "code",
   "execution_count": 27,
   "id": "291af7d8",
   "metadata": {},
   "outputs": [
    {
     "data": {
      "text/plain": [
       "March       0.18\n",
       "April       0.17\n",
       "May         0.17\n",
       "February    0.16\n",
       "June        0.16\n",
       "January     0.16\n",
       "Name: pickup_month, dtype: float64"
      ]
     },
     "execution_count": 27,
     "metadata": {},
     "output_type": "execute_result"
    }
   ],
   "source": [
    "data.pickup_month.value_counts(normalize=True).round(2)"
   ]
  },
  {
   "cell_type": "code",
   "execution_count": 28,
   "id": "72a4254e",
   "metadata": {},
   "outputs": [
    {
     "data": {
      "text/plain": [
       "19    0.06\n",
       "18    0.06\n",
       "20    0.06\n",
       "21    0.06\n",
       "22    0.06\n",
       "23    0.05\n",
       "15    0.05\n",
       "14    0.05\n",
       "17    0.05\n",
       "12    0.05\n",
       "13    0.05\n",
       "9     0.05\n",
       "11    0.05\n",
       "10    0.05\n",
       "16    0.05\n",
       "8     0.04\n",
       "0     0.04\n",
       "7     0.03\n",
       "1     0.03\n",
       "2     0.02\n",
       "6     0.02\n",
       "3     0.02\n",
       "4     0.01\n",
       "5     0.01\n",
       "Name: dropoff_hour, dtype: float64"
      ]
     },
     "execution_count": 28,
     "metadata": {},
     "output_type": "execute_result"
    }
   ],
   "source": [
    "data.dropoff_hour.value_counts(normalize=True).round(2)"
   ]
  },
  {
   "cell_type": "code",
   "execution_count": 29,
   "id": "b6b579c2",
   "metadata": {},
   "outputs": [
    {
     "data": {
      "text/plain": [
       "Friday       0.15\n",
       "Saturday     0.15\n",
       "Thursday     0.15\n",
       "Wednesday    0.14\n",
       "Tuesday      0.14\n",
       "Sunday       0.14\n",
       "Monday       0.13\n",
       "Name: dropoff_weekday, dtype: float64"
      ]
     },
     "execution_count": 29,
     "metadata": {},
     "output_type": "execute_result"
    }
   ],
   "source": [
    "data.dropoff_weekday.value_counts(normalize=True).round(2)"
   ]
  },
  {
   "cell_type": "code",
   "execution_count": 30,
   "id": "a6bb3697",
   "metadata": {},
   "outputs": [
    {
     "data": {
      "text/plain": [
       "March       0.18\n",
       "April       0.17\n",
       "May         0.17\n",
       "February    0.16\n",
       "June        0.16\n",
       "January     0.16\n",
       "July        0.00\n",
       "Name: dropoff_month, dtype: float64"
      ]
     },
     "execution_count": 30,
     "metadata": {},
     "output_type": "execute_result"
    }
   ],
   "source": [
    "data.dropoff_month.value_counts(normalize=True).round(2)"
   ]
  },
  {
   "cell_type": "code",
   "execution_count": 31,
   "id": "57441969",
   "metadata": {},
   "outputs": [
    {
     "data": {
      "text/plain": [
       "Index(['March', 'April', 'May', 'February', 'June', 'January'], dtype='object')"
      ]
     },
     "execution_count": 31,
     "metadata": {},
     "output_type": "execute_result"
    }
   ],
   "source": [
    "data.pickup_month.value_counts().index"
   ]
  },
  {
   "cell_type": "code",
   "execution_count": 32,
   "id": "c457042d",
   "metadata": {},
   "outputs": [
    {
     "data": {
      "text/plain": [
       "Index(['March', 'April', 'May', 'February', 'June', 'January', 'July'], dtype='object')"
      ]
     },
     "execution_count": 32,
     "metadata": {},
     "output_type": "execute_result"
    }
   ],
   "source": [
    "data.dropoff_month.value_counts().index"
   ]
  },
  {
   "cell_type": "markdown",
   "id": "6cdc9e91",
   "metadata": {},
   "source": [
    "inspecting the disperities in the unique months for pick up amd drop off, Why is there a max pick up date of June and there is a dropoff month of July"
   ]
  },
  {
   "cell_type": "code",
   "execution_count": 33,
   "id": "326728d4",
   "metadata": {
    "scrolled": true
   },
   "outputs": [
    {
     "data": {
      "text/plain": [
       "Timestamp('2016-06-30 23:59:37')"
      ]
     },
     "execution_count": 33,
     "metadata": {},
     "output_type": "execute_result"
    }
   ],
   "source": [
    "data['pickup_datetime'].max()"
   ]
  },
  {
   "cell_type": "code",
   "execution_count": 34,
   "id": "61f7e1d8",
   "metadata": {},
   "outputs": [
    {
     "data": {
      "text/plain": [
       "Timestamp('2016-07-01 23:02:03')"
      ]
     },
     "execution_count": 34,
     "metadata": {},
     "output_type": "execute_result"
    }
   ],
   "source": [
    "data['dropoff_datetime'].max()"
   ]
  },
  {
   "cell_type": "code",
   "execution_count": 35,
   "id": "b49fedd8",
   "metadata": {},
   "outputs": [
    {
     "data": {
      "text/html": [
       "<div>\n",
       "<style scoped>\n",
       "    .dataframe tbody tr th:only-of-type {\n",
       "        vertical-align: middle;\n",
       "    }\n",
       "\n",
       "    .dataframe tbody tr th {\n",
       "        vertical-align: top;\n",
       "    }\n",
       "\n",
       "    .dataframe thead th {\n",
       "        text-align: right;\n",
       "    }\n",
       "</style>\n",
       "<table border=\"1\" class=\"dataframe\">\n",
       "  <thead>\n",
       "    <tr style=\"text-align: right;\">\n",
       "      <th></th>\n",
       "      <th>id</th>\n",
       "      <th>vendor_id</th>\n",
       "      <th>pickup_datetime</th>\n",
       "      <th>dropoff_datetime</th>\n",
       "      <th>passenger_count</th>\n",
       "      <th>pickup_longitude</th>\n",
       "      <th>pickup_latitude</th>\n",
       "      <th>dropoff_longitude</th>\n",
       "      <th>dropoff_latitude</th>\n",
       "      <th>store_and_fwd_flag</th>\n",
       "      <th>trip_duration</th>\n",
       "      <th>pickup_hour</th>\n",
       "      <th>pickup_weekday</th>\n",
       "      <th>pickup_month</th>\n",
       "      <th>dropoff_hour</th>\n",
       "      <th>dropoff_weekday</th>\n",
       "      <th>dropoff_month</th>\n",
       "    </tr>\n",
       "  </thead>\n",
       "  <tbody>\n",
       "    <tr>\n",
       "      <th>313428</th>\n",
       "      <td>id2332349</td>\n",
       "      <td>2</td>\n",
       "      <td>2016-06-30 23:59:37</td>\n",
       "      <td>2016-07-01 00:23:39</td>\n",
       "      <td>5</td>\n",
       "      <td>-73.998291</td>\n",
       "      <td>40.722618</td>\n",
       "      <td>-73.971779</td>\n",
       "      <td>40.76247</td>\n",
       "      <td>N</td>\n",
       "      <td>1442</td>\n",
       "      <td>23</td>\n",
       "      <td>Thursday</td>\n",
       "      <td>June</td>\n",
       "      <td>0</td>\n",
       "      <td>Friday</td>\n",
       "      <td>July</td>\n",
       "    </tr>\n",
       "  </tbody>\n",
       "</table>\n",
       "</div>"
      ],
      "text/plain": [
       "               id vendor_id     pickup_datetime    dropoff_datetime  \\\n",
       "313428  id2332349         2 2016-06-30 23:59:37 2016-07-01 00:23:39   \n",
       "\n",
       "        passenger_count  pickup_longitude  pickup_latitude  dropoff_longitude  \\\n",
       "313428                5        -73.998291        40.722618         -73.971779   \n",
       "\n",
       "        dropoff_latitude store_and_fwd_flag  trip_duration  pickup_hour  \\\n",
       "313428          40.76247                  N           1442           23   \n",
       "\n",
       "       pickup_weekday pickup_month  dropoff_hour dropoff_weekday dropoff_month  \n",
       "313428       Thursday         June             0          Friday          July  "
      ]
     },
     "execution_count": 35,
     "metadata": {},
     "output_type": "execute_result"
    }
   ],
   "source": [
    "data[(data['pickup_datetime'] == '2016-06-30 23:59:37')]"
   ]
  },
  {
   "cell_type": "markdown",
   "id": "55132adc",
   "metadata": {},
   "source": [
    "Okay, from the above, I found that there was a pick up time late into the night, the last day of June, that extended up until the next day, which is the first of july. "
   ]
  },
  {
   "cell_type": "code",
   "execution_count": 36,
   "id": "58163741",
   "metadata": {},
   "outputs": [
    {
     "data": {
      "image/png": "[encoded data removed]",
      "text/plain": [
       "<Figure size 432x288 with 1 Axes>"
      ]
     },
     "metadata": {
      "needs_background": "light"
     },
     "output_type": "display_data"
    }
   ],
   "source": [
    "plot1 = sns.countplot(x='pickup_month', data = data)\n",
    "\n"
   ]
  },
  {
   "cell_type": "markdown",
   "id": "115ebb33",
   "metadata": {},
   "source": [
    "The above shows that March had the most trip, followed by April and January had the least"
   ]
  },
  {
   "cell_type": "code",
   "execution_count": 37,
   "id": "1454717e",
   "metadata": {},
   "outputs": [
    {
     "data": {
      "image/png": "[encoded data removed]",
      "text/plain": [
       "<Figure size 432x288 with 1 Axes>"
      ]
     },
     "metadata": {
      "needs_background": "light"
     },
     "output_type": "display_data"
    }
   ],
   "source": [
    "plot2 = sns.countplot(x='dropoff_month', data = data)"
   ]
  },
  {
   "cell_type": "code",
   "execution_count": 38,
   "id": "525e705d",
   "metadata": {},
   "outputs": [
    {
     "data": {
      "image/png": "[encoded data removed]",
      "text/plain": [
       "<Figure size 432x288 with 1 Axes>"
      ]
     },
     "metadata": {
      "needs_background": "light"
     },
     "output_type": "display_data"
    }
   ],
   "source": [
    "plot3 = sns.countplot(x='pickup_weekday', data = data)"
   ]
  },
  {
   "cell_type": "markdown",
   "id": "ce960246",
   "metadata": {},
   "source": [
    "Friday had the most trips, followed by Thursday and Saturday. I am suggesting that more buses or cars should be made available. Also, dynamic pricing (prices of services increasing as a result of traffic) is adviced to generate more revenue for the business. "
   ]
  },
  {
   "cell_type": "code",
   "execution_count": 39,
   "id": "b7836bfb",
   "metadata": {},
   "outputs": [
    {
     "data": {
      "image/png": "[encoded data removed]",
      "text/plain": [
       "<Figure size 432x288 with 1 Axes>"
      ]
     },
     "metadata": {
      "needs_background": "light"
     },
     "output_type": "display_data"
    }
   ],
   "source": [
    "plot4 = sns.countplot(x='dropoff_weekday', data = data)"
   ]
  },
  {
   "cell_type": "code",
   "execution_count": 40,
   "id": "d70b12ef",
   "metadata": {},
   "outputs": [
    {
     "data": {
      "image/png": "[encoded data removed]",
      "text/plain": [
       "<Figure size 432x288 with 1 Axes>"
      ]
     },
     "metadata": {
      "needs_background": "light"
     },
     "output_type": "display_data"
    }
   ],
   "source": [
    "plot5 = sns.countplot(x='pickup_hour', data = data)"
   ]
  },
  {
   "cell_type": "markdown",
   "id": "495db795",
   "metadata": {},
   "source": [
    "The peak of pick up hour is late into the nice, the same adviced above still applies. More vehicles should be made available."
   ]
  },
  {
   "cell_type": "code",
   "execution_count": 41,
   "id": "b3ebae84",
   "metadata": {},
   "outputs": [
    {
     "data": {
      "image/png": "[encoded data removed]",
      "text/plain": [
       "<Figure size 432x288 with 1 Axes>"
      ]
     },
     "metadata": {
      "needs_background": "light"
     },
     "output_type": "display_data"
    }
   ],
   "source": [
    "plot6 = sns.countplot(x='dropoff_hour', data = data)"
   ]
  },
  {
   "cell_type": "markdown",
   "id": "fc7fd071",
   "metadata": {},
   "source": [
    "The analysis above shows all the information for the pick up and drop off time are approximately the same, this suggest that the trip duration is not a long one. I will confirm below."
   ]
  },
  {
   "cell_type": "code",
   "execution_count": 42,
   "id": "3706e514",
   "metadata": {},
   "outputs": [
    {
     "data": {
      "text/plain": [
       "32328.933333333334"
      ]
     },
     "execution_count": 42,
     "metadata": {},
     "output_type": "execute_result"
    }
   ],
   "source": [
    "data['trip_duration'].max()/60"
   ]
  },
  {
   "cell_type": "code",
   "execution_count": 43,
   "id": "1e925173",
   "metadata": {},
   "outputs": [
    {
     "data": {
      "text/plain": [
       "1"
      ]
     },
     "execution_count": 43,
     "metadata": {},
     "output_type": "execute_result"
    }
   ],
   "source": [
    "data['trip_duration'].min()"
   ]
  },
  {
   "cell_type": "code",
   "execution_count": 44,
   "id": "a5f05e3e",
   "metadata": {
    "scrolled": true
   },
   "outputs": [
    {
     "data": {
      "text/html": [
       "<div>\n",
       "<style scoped>\n",
       "    .dataframe tbody tr th:only-of-type {\n",
       "        vertical-align: middle;\n",
       "    }\n",
       "\n",
       "    .dataframe tbody tr th {\n",
       "        vertical-align: top;\n",
       "    }\n",
       "\n",
       "    .dataframe thead th {\n",
       "        text-align: right;\n",
       "    }\n",
       "</style>\n",
       "<table border=\"1\" class=\"dataframe\">\n",
       "  <thead>\n",
       "    <tr style=\"text-align: right;\">\n",
       "      <th></th>\n",
       "      <th>id</th>\n",
       "      <th>vendor_id</th>\n",
       "      <th>pickup_datetime</th>\n",
       "      <th>dropoff_datetime</th>\n",
       "      <th>passenger_count</th>\n",
       "      <th>pickup_longitude</th>\n",
       "      <th>pickup_latitude</th>\n",
       "      <th>dropoff_longitude</th>\n",
       "      <th>dropoff_latitude</th>\n",
       "      <th>store_and_fwd_flag</th>\n",
       "      <th>trip_duration</th>\n",
       "      <th>pickup_hour</th>\n",
       "      <th>pickup_weekday</th>\n",
       "      <th>pickup_month</th>\n",
       "      <th>dropoff_hour</th>\n",
       "      <th>dropoff_weekday</th>\n",
       "      <th>dropoff_month</th>\n",
       "    </tr>\n",
       "  </thead>\n",
       "  <tbody>\n",
       "    <tr>\n",
       "      <th>21813</th>\n",
       "      <td>id1864733</td>\n",
       "      <td>1</td>\n",
       "      <td>2016-01-05 00:19:42</td>\n",
       "      <td>2016-01-27 11:08:38</td>\n",
       "      <td>1</td>\n",
       "      <td>-73.78965</td>\n",
       "      <td>40.643559</td>\n",
       "      <td>-73.95681</td>\n",
       "      <td>40.773087</td>\n",
       "      <td>N</td>\n",
       "      <td>1939736</td>\n",
       "      <td>0</td>\n",
       "      <td>Tuesday</td>\n",
       "      <td>January</td>\n",
       "      <td>11</td>\n",
       "      <td>Wednesday</td>\n",
       "      <td>January</td>\n",
       "    </tr>\n",
       "  </tbody>\n",
       "</table>\n",
       "</div>"
      ],
      "text/plain": [
       "              id vendor_id     pickup_datetime    dropoff_datetime  \\\n",
       "21813  id1864733         1 2016-01-05 00:19:42 2016-01-27 11:08:38   \n",
       "\n",
       "       passenger_count  pickup_longitude  pickup_latitude  dropoff_longitude  \\\n",
       "21813                1         -73.78965        40.643559          -73.95681   \n",
       "\n",
       "       dropoff_latitude store_and_fwd_flag  trip_duration  pickup_hour  \\\n",
       "21813         40.773087                  N        1939736            0   \n",
       "\n",
       "      pickup_weekday pickup_month  dropoff_hour dropoff_weekday dropoff_month  \n",
       "21813        Tuesday      January            11       Wednesday       January  "
      ]
     },
     "execution_count": 44,
     "metadata": {},
     "output_type": "execute_result"
    }
   ],
   "source": [
    "data[(data['trip_duration'] == data['trip_duration'].max())]"
   ]
  },
  {
   "cell_type": "raw",
   "id": "67faa863",
   "metadata": {},
   "source": [
    "Wow, this is an interesting finding,there was an approximately 22-day long trip? wow! This data is interesting."
   ]
  },
  {
   "cell_type": "code",
   "execution_count": 45,
   "id": "599f2a33",
   "metadata": {},
   "outputs": [
    {
     "data": {
      "text/html": [
       "<div>\n",
       "<style scoped>\n",
       "    .dataframe tbody tr th:only-of-type {\n",
       "        vertical-align: middle;\n",
       "    }\n",
       "\n",
       "    .dataframe tbody tr th {\n",
       "        vertical-align: top;\n",
       "    }\n",
       "\n",
       "    .dataframe thead th {\n",
       "        text-align: right;\n",
       "    }\n",
       "</style>\n",
       "<table border=\"1\" class=\"dataframe\">\n",
       "  <thead>\n",
       "    <tr style=\"text-align: right;\">\n",
       "      <th></th>\n",
       "      <th>id</th>\n",
       "      <th>vendor_id</th>\n",
       "      <th>pickup_datetime</th>\n",
       "      <th>dropoff_datetime</th>\n",
       "      <th>passenger_count</th>\n",
       "      <th>pickup_longitude</th>\n",
       "      <th>pickup_latitude</th>\n",
       "      <th>dropoff_longitude</th>\n",
       "      <th>dropoff_latitude</th>\n",
       "      <th>store_and_fwd_flag</th>\n",
       "      <th>trip_duration</th>\n",
       "      <th>pickup_hour</th>\n",
       "      <th>pickup_weekday</th>\n",
       "      <th>pickup_month</th>\n",
       "      <th>dropoff_hour</th>\n",
       "      <th>dropoff_weekday</th>\n",
       "      <th>dropoff_month</th>\n",
       "    </tr>\n",
       "  </thead>\n",
       "  <tbody>\n",
       "    <tr>\n",
       "      <th>70318</th>\n",
       "      <td>id0553321</td>\n",
       "      <td>2</td>\n",
       "      <td>2016-04-11 19:01:35</td>\n",
       "      <td>2016-04-11 19:01:36</td>\n",
       "      <td>1</td>\n",
       "      <td>-73.945999</td>\n",
       "      <td>40.792202</td>\n",
       "      <td>-73.947411</td>\n",
       "      <td>40.792740</td>\n",
       "      <td>N</td>\n",
       "      <td>1</td>\n",
       "      <td>19</td>\n",
       "      <td>Monday</td>\n",
       "      <td>April</td>\n",
       "      <td>19</td>\n",
       "      <td>Monday</td>\n",
       "      <td>April</td>\n",
       "    </tr>\n",
       "    <tr>\n",
       "      <th>95823</th>\n",
       "      <td>id2943073</td>\n",
       "      <td>2</td>\n",
       "      <td>2016-01-03 16:55:44</td>\n",
       "      <td>2016-01-03 16:55:45</td>\n",
       "      <td>1</td>\n",
       "      <td>-73.975677</td>\n",
       "      <td>40.785488</td>\n",
       "      <td>-73.976372</td>\n",
       "      <td>40.785831</td>\n",
       "      <td>N</td>\n",
       "      <td>1</td>\n",
       "      <td>16</td>\n",
       "      <td>Sunday</td>\n",
       "      <td>January</td>\n",
       "      <td>16</td>\n",
       "      <td>Sunday</td>\n",
       "      <td>January</td>\n",
       "    </tr>\n",
       "    <tr>\n",
       "      <th>102646</th>\n",
       "      <td>id2536510</td>\n",
       "      <td>1</td>\n",
       "      <td>2016-04-17 11:44:49</td>\n",
       "      <td>2016-04-17 11:44:50</td>\n",
       "      <td>1</td>\n",
       "      <td>-73.940384</td>\n",
       "      <td>40.786423</td>\n",
       "      <td>-73.940300</td>\n",
       "      <td>40.786373</td>\n",
       "      <td>N</td>\n",
       "      <td>1</td>\n",
       "      <td>11</td>\n",
       "      <td>Sunday</td>\n",
       "      <td>April</td>\n",
       "      <td>11</td>\n",
       "      <td>Sunday</td>\n",
       "      <td>April</td>\n",
       "    </tr>\n",
       "    <tr>\n",
       "      <th>119181</th>\n",
       "      <td>id2517984</td>\n",
       "      <td>1</td>\n",
       "      <td>2016-01-09 00:28:55</td>\n",
       "      <td>2016-01-09 00:28:56</td>\n",
       "      <td>1</td>\n",
       "      <td>-73.861961</td>\n",
       "      <td>40.768559</td>\n",
       "      <td>-73.861961</td>\n",
       "      <td>40.768559</td>\n",
       "      <td>N</td>\n",
       "      <td>1</td>\n",
       "      <td>0</td>\n",
       "      <td>Saturday</td>\n",
       "      <td>January</td>\n",
       "      <td>0</td>\n",
       "      <td>Saturday</td>\n",
       "      <td>January</td>\n",
       "    </tr>\n",
       "    <tr>\n",
       "      <th>296874</th>\n",
       "      <td>id1520236</td>\n",
       "      <td>1</td>\n",
       "      <td>2016-05-17 09:03:38</td>\n",
       "      <td>2016-05-17 09:03:39</td>\n",
       "      <td>1</td>\n",
       "      <td>-73.819893</td>\n",
       "      <td>40.740822</td>\n",
       "      <td>-73.819885</td>\n",
       "      <td>40.740822</td>\n",
       "      <td>N</td>\n",
       "      <td>1</td>\n",
       "      <td>9</td>\n",
       "      <td>Tuesday</td>\n",
       "      <td>May</td>\n",
       "      <td>9</td>\n",
       "      <td>Tuesday</td>\n",
       "      <td>May</td>\n",
       "    </tr>\n",
       "    <tr>\n",
       "      <th>312992</th>\n",
       "      <td>id0075470</td>\n",
       "      <td>1</td>\n",
       "      <td>2016-03-07 16:12:28</td>\n",
       "      <td>2016-03-07 16:12:29</td>\n",
       "      <td>1</td>\n",
       "      <td>-73.980690</td>\n",
       "      <td>40.744419</td>\n",
       "      <td>-73.980690</td>\n",
       "      <td>40.744419</td>\n",
       "      <td>N</td>\n",
       "      <td>1</td>\n",
       "      <td>16</td>\n",
       "      <td>Monday</td>\n",
       "      <td>March</td>\n",
       "      <td>16</td>\n",
       "      <td>Monday</td>\n",
       "      <td>March</td>\n",
       "    </tr>\n",
       "    <tr>\n",
       "      <th>323299</th>\n",
       "      <td>id0578509</td>\n",
       "      <td>1</td>\n",
       "      <td>2016-02-03 12:35:22</td>\n",
       "      <td>2016-02-03 12:35:23</td>\n",
       "      <td>1</td>\n",
       "      <td>-73.980560</td>\n",
       "      <td>40.754829</td>\n",
       "      <td>-73.980560</td>\n",
       "      <td>40.754829</td>\n",
       "      <td>N</td>\n",
       "      <td>1</td>\n",
       "      <td>12</td>\n",
       "      <td>Wednesday</td>\n",
       "      <td>February</td>\n",
       "      <td>12</td>\n",
       "      <td>Wednesday</td>\n",
       "      <td>February</td>\n",
       "    </tr>\n",
       "    <tr>\n",
       "      <th>398887</th>\n",
       "      <td>id2402793</td>\n",
       "      <td>1</td>\n",
       "      <td>2016-04-30 00:28:45</td>\n",
       "      <td>2016-04-30 00:28:46</td>\n",
       "      <td>1</td>\n",
       "      <td>-73.789658</td>\n",
       "      <td>40.647003</td>\n",
       "      <td>-73.789658</td>\n",
       "      <td>40.647003</td>\n",
       "      <td>N</td>\n",
       "      <td>1</td>\n",
       "      <td>0</td>\n",
       "      <td>Saturday</td>\n",
       "      <td>April</td>\n",
       "      <td>0</td>\n",
       "      <td>Saturday</td>\n",
       "      <td>April</td>\n",
       "    </tr>\n",
       "    <tr>\n",
       "      <th>512833</th>\n",
       "      <td>id2697717</td>\n",
       "      <td>2</td>\n",
       "      <td>2016-03-27 12:55:52</td>\n",
       "      <td>2016-03-27 12:55:53</td>\n",
       "      <td>2</td>\n",
       "      <td>-73.983154</td>\n",
       "      <td>40.767159</td>\n",
       "      <td>-73.983238</td>\n",
       "      <td>40.767097</td>\n",
       "      <td>N</td>\n",
       "      <td>1</td>\n",
       "      <td>12</td>\n",
       "      <td>Sunday</td>\n",
       "      <td>March</td>\n",
       "      <td>12</td>\n",
       "      <td>Sunday</td>\n",
       "      <td>March</td>\n",
       "    </tr>\n",
       "    <tr>\n",
       "      <th>533760</th>\n",
       "      <td>id0948644</td>\n",
       "      <td>2</td>\n",
       "      <td>2016-02-22 00:40:25</td>\n",
       "      <td>2016-02-22 00:40:26</td>\n",
       "      <td>0</td>\n",
       "      <td>-73.987595</td>\n",
       "      <td>40.719997</td>\n",
       "      <td>-73.987595</td>\n",
       "      <td>40.720005</td>\n",
       "      <td>N</td>\n",
       "      <td>1</td>\n",
       "      <td>0</td>\n",
       "      <td>Monday</td>\n",
       "      <td>February</td>\n",
       "      <td>0</td>\n",
       "      <td>Monday</td>\n",
       "      <td>February</td>\n",
       "    </tr>\n",
       "    <tr>\n",
       "      <th>566349</th>\n",
       "      <td>id0839864</td>\n",
       "      <td>1</td>\n",
       "      <td>2016-02-06 13:40:27</td>\n",
       "      <td>2016-02-06 13:40:28</td>\n",
       "      <td>1</td>\n",
       "      <td>-73.987991</td>\n",
       "      <td>40.724083</td>\n",
       "      <td>-73.987991</td>\n",
       "      <td>40.724079</td>\n",
       "      <td>N</td>\n",
       "      <td>1</td>\n",
       "      <td>13</td>\n",
       "      <td>Saturday</td>\n",
       "      <td>February</td>\n",
       "      <td>13</td>\n",
       "      <td>Saturday</td>\n",
       "      <td>February</td>\n",
       "    </tr>\n",
       "    <tr>\n",
       "      <th>622664</th>\n",
       "      <td>id0550194</td>\n",
       "      <td>1</td>\n",
       "      <td>2016-04-20 23:15:08</td>\n",
       "      <td>2016-04-20 23:15:09</td>\n",
       "      <td>1</td>\n",
       "      <td>-73.986282</td>\n",
       "      <td>40.750034</td>\n",
       "      <td>-73.986237</td>\n",
       "      <td>40.750088</td>\n",
       "      <td>N</td>\n",
       "      <td>1</td>\n",
       "      <td>23</td>\n",
       "      <td>Wednesday</td>\n",
       "      <td>April</td>\n",
       "      <td>23</td>\n",
       "      <td>Wednesday</td>\n",
       "      <td>April</td>\n",
       "    </tr>\n",
       "    <tr>\n",
       "      <th>672240</th>\n",
       "      <td>id2072503</td>\n",
       "      <td>1</td>\n",
       "      <td>2016-01-20 05:53:45</td>\n",
       "      <td>2016-01-20 05:53:46</td>\n",
       "      <td>1</td>\n",
       "      <td>-73.807213</td>\n",
       "      <td>40.658192</td>\n",
       "      <td>-73.807259</td>\n",
       "      <td>40.658051</td>\n",
       "      <td>N</td>\n",
       "      <td>1</td>\n",
       "      <td>5</td>\n",
       "      <td>Wednesday</td>\n",
       "      <td>January</td>\n",
       "      <td>5</td>\n",
       "      <td>Wednesday</td>\n",
       "      <td>January</td>\n",
       "    </tr>\n",
       "  </tbody>\n",
       "</table>\n",
       "</div>"
      ],
      "text/plain": [
       "               id vendor_id     pickup_datetime    dropoff_datetime  \\\n",
       "70318   id0553321         2 2016-04-11 19:01:35 2016-04-11 19:01:36   \n",
       "95823   id2943073         2 2016-01-03 16:55:44 2016-01-03 16:55:45   \n",
       "102646  id2536510         1 2016-04-17 11:44:49 2016-04-17 11:44:50   \n",
       "119181  id2517984         1 2016-01-09 00:28:55 2016-01-09 00:28:56   \n",
       "296874  id1520236         1 2016-05-17 09:03:38 2016-05-17 09:03:39   \n",
       "312992  id0075470         1 2016-03-07 16:12:28 2016-03-07 16:12:29   \n",
       "323299  id0578509         1 2016-02-03 12:35:22 2016-02-03 12:35:23   \n",
       "398887  id2402793         1 2016-04-30 00:28:45 2016-04-30 00:28:46   \n",
       "512833  id2697717         2 2016-03-27 12:55:52 2016-03-27 12:55:53   \n",
       "533760  id0948644         2 2016-02-22 00:40:25 2016-02-22 00:40:26   \n",
       "566349  id0839864         1 2016-02-06 13:40:27 2016-02-06 13:40:28   \n",
       "622664  id0550194         1 2016-04-20 23:15:08 2016-04-20 23:15:09   \n",
       "672240  id2072503         1 2016-01-20 05:53:45 2016-01-20 05:53:46   \n",
       "\n",
       "        passenger_count  pickup_longitude  pickup_latitude  dropoff_longitude  \\\n",
       "70318                 1        -73.945999        40.792202         -73.947411   \n",
       "95823                 1        -73.975677        40.785488         -73.976372   \n",
       "102646                1        -73.940384        40.786423         -73.940300   \n",
       "119181                1        -73.861961        40.768559         -73.861961   \n",
       "296874                1        -73.819893        40.740822         -73.819885   \n",
       "312992                1        -73.980690        40.744419         -73.980690   \n",
       "323299                1        -73.980560        40.754829         -73.980560   \n",
       "398887                1        -73.789658        40.647003         -73.789658   \n",
       "512833                2        -73.983154        40.767159         -73.983238   \n",
       "533760                0        -73.987595        40.719997         -73.987595   \n",
       "566349                1        -73.987991        40.724083         -73.987991   \n",
       "622664                1        -73.986282        40.750034         -73.986237   \n",
       "672240                1        -73.807213        40.658192         -73.807259   \n",
       "\n",
       "        dropoff_latitude store_and_fwd_flag  trip_duration  pickup_hour  \\\n",
       "70318          40.792740                  N              1           19   \n",
       "95823          40.785831                  N              1           16   \n",
       "102646         40.786373                  N              1           11   \n",
       "119181         40.768559                  N              1            0   \n",
       "296874         40.740822                  N              1            9   \n",
       "312992         40.744419                  N              1           16   \n",
       "323299         40.754829                  N              1           12   \n",
       "398887         40.647003                  N              1            0   \n",
       "512833         40.767097                  N              1           12   \n",
       "533760         40.720005                  N              1            0   \n",
       "566349         40.724079                  N              1           13   \n",
       "622664         40.750088                  N              1           23   \n",
       "672240         40.658051                  N              1            5   \n",
       "\n",
       "       pickup_weekday pickup_month  dropoff_hour dropoff_weekday dropoff_month  \n",
       "70318          Monday        April            19          Monday         April  \n",
       "95823          Sunday      January            16          Sunday       January  \n",
       "102646         Sunday        April            11          Sunday         April  \n",
       "119181       Saturday      January             0        Saturday       January  \n",
       "296874        Tuesday          May             9         Tuesday           May  \n",
       "312992         Monday        March            16          Monday         March  \n",
       "323299      Wednesday     February            12       Wednesday      February  \n",
       "398887       Saturday        April             0        Saturday         April  \n",
       "512833         Sunday        March            12          Sunday         March  \n",
       "533760         Monday     February             0          Monday      February  \n",
       "566349       Saturday     February            13        Saturday      February  \n",
       "622664      Wednesday        April            23       Wednesday         April  \n",
       "672240      Wednesday      January             5       Wednesday       January  "
      ]
     },
     "execution_count": 45,
     "metadata": {},
     "output_type": "execute_result"
    }
   ],
   "source": [
    "data[(data['trip_duration'] == data['trip_duration'].min())]"
   ]
  },
  {
   "cell_type": "markdown",
   "id": "d21c3dff",
   "metadata": {},
   "source": [
    "Hmmmm, since the trip duration is in seconds, the data is saying that there are trips that lasted for just 1 second, are they cancealled trip? This will require further investigation."
   ]
  },
  {
   "cell_type": "code",
   "execution_count": 46,
   "id": "ffff5c52",
   "metadata": {},
   "outputs": [
    {
     "data": {
      "image/png": "[encoded data removed]",
      "text/plain": [
       "<Figure size 432x288 with 1 Axes>"
      ]
     },
     "metadata": {
      "needs_background": "light"
     },
     "output_type": "display_data"
    }
   ],
   "source": [
    "plot7 = sns.countplot(x='vendor_id', data = data)"
   ]
  },
  {
   "cell_type": "markdown",
   "id": "9cc69cd4",
   "metadata": {},
   "source": [
    "The above graph shows that the vendor id 2 tops for providers associated with the trip record"
   ]
  },
  {
   "cell_type": "code",
   "execution_count": 47,
   "id": "064b649a",
   "metadata": {},
   "outputs": [
    {
     "data": {
      "image/png": "[encoded data removed]",
      "text/plain": [
       "<Figure size 432x288 with 1 Axes>"
      ]
     },
     "metadata": {
      "needs_background": "light"
     },
     "output_type": "display_data"
    }
   ],
   "source": [
    "plot8 = sns.countplot(x='passenger_count', data = data)"
   ]
  },
  {
   "cell_type": "markdown",
   "id": "00be718b",
   "metadata": {},
   "source": [
    "The above shows that most of the trip had single passengers and the highest number of passenger in all the trip is 9 which very minimal."
   ]
  },
  {
   "cell_type": "code",
   "execution_count": 48,
   "id": "d704f4d3",
   "metadata": {},
   "outputs": [
    {
     "data": {
      "image/png": "[encoded data removed]",
      "text/plain": [
       "<Figure size 432x288 with 1 Axes>"
      ]
     },
     "metadata": {
      "needs_background": "light"
     },
     "output_type": "display_data"
    }
   ],
   "source": [
    "plot9 = sns.countplot(x='store_and_fwd_flag', data = data)"
   ]
  },
  {
   "cell_type": "markdown",
   "id": "205746d7",
   "metadata": {},
   "source": [
    "The above visual shows that majority of the trip was not a store and forward trip"
   ]
  },
  {
   "cell_type": "markdown",
   "id": "3328fb0e",
   "metadata": {},
   "source": [
    "Now, I will do an exploration on multiple columns to see relationships"
   ]
  },
  {
   "cell_type": "code",
   "execution_count": 49,
   "id": "e0895e91",
   "metadata": {},
   "outputs": [
    {
     "data": {
      "image/png": "[encoded data removed]",
      "text/plain": [
       "<Figure size 382.65x432 with 1 Axes>"
      ]
     },
     "metadata": {
      "needs_background": "light"
     },
     "output_type": "display_data"
    }
   ],
   "source": [
    "plot10 = sns.catplot(x=\"store_and_fwd_flag\", hue=\"pickup_month\", data=data, kind=\"count\",height=6, aspect=.7)"
   ]
  },
  {
   "cell_type": "code",
   "execution_count": 50,
   "id": "1abe5780",
   "metadata": {},
   "outputs": [
    {
     "data": {
      "image/png": "[encoded data removed]",
      "text/plain": [
       "<Figure size 396.275x432 with 1 Axes>"
      ]
     },
     "metadata": {
      "needs_background": "light"
     },
     "output_type": "display_data"
    }
   ],
   "source": [
    "plot10 = sns.catplot(x=\"store_and_fwd_flag\", hue=\"pickup_weekday\", data=data, kind=\"count\",height=6, aspect=.7)"
   ]
  },
  {
   "cell_type": "code",
   "execution_count": 51,
   "id": "2c8986d3",
   "metadata": {},
   "outputs": [
    {
     "data": {
      "image/png": "[encoded data removed]",
      "text/plain": [
       "<Figure size 644.625x576 with 1 Axes>"
      ]
     },
     "metadata": {
      "needs_background": "light"
     },
     "output_type": "display_data"
    }
   ],
   "source": [
    "plot11 = sns.catplot(x=\"store_and_fwd_flag\", hue=\"pickup_hour\", data=data, kind=\"count\",height=8)"
   ]
  },
  {
   "cell_type": "markdown",
   "id": "08352b0c",
   "metadata": {},
   "source": [
    "Since I have already justified that there are similarities in the above visualization for both pick up time and drop off time, there is no point exploring the above for drop off time, same information applies. I will just go ahed to do the same for vendor id"
   ]
  },
  {
   "cell_type": "code",
   "execution_count": 52,
   "id": "633de466",
   "metadata": {},
   "outputs": [
    {
     "data": {
      "image/png": "[encoded data removed]",
      "text/plain": [
       "<Figure size 382.65x432 with 1 Axes>"
      ]
     },
     "metadata": {
      "needs_background": "light"
     },
     "output_type": "display_data"
    }
   ],
   "source": [
    "plot12 = sns.catplot(x=\"vendor_id\", hue=\"pickup_month\", data=data, kind=\"count\",height=6, aspect=.7)"
   ]
  },
  {
   "cell_type": "code",
   "execution_count": 53,
   "id": "a3cb0f39",
   "metadata": {},
   "outputs": [
    {
     "data": {
      "image/png": "[encoded data removed]",
      "text/plain": [
       "<Figure size 396.275x432 with 1 Axes>"
      ]
     },
     "metadata": {
      "needs_background": "light"
     },
     "output_type": "display_data"
    }
   ],
   "source": [
    "plot13 = sns.catplot(x=\"vendor_id\", hue=\"pickup_weekday\", data=data, kind=\"count\",height=6, aspect=.7)"
   ]
  },
  {
   "cell_type": "code",
   "execution_count": 54,
   "id": "2f6a93d0",
   "metadata": {},
   "outputs": [
    {
     "data": {
      "image/png": "[encoded data removed]",
      "text/plain": [
       "<Figure size 371.025x432 with 1 Axes>"
      ]
     },
     "metadata": {
      "needs_background": "light"
     },
     "output_type": "display_data"
    }
   ],
   "source": [
    "plot14 = sns.catplot(x=\"vendor_id\", hue=\"pickup_hour\", data=data, kind=\"count\",height=6, aspect=.7)"
   ]
  },
  {
   "cell_type": "markdown",
   "id": "d15b3f43",
   "metadata": {},
   "source": [
    "Consequently, let's do same with passenger count"
   ]
  },
  {
   "cell_type": "code",
   "execution_count": 55,
   "id": "983216e7",
   "metadata": {},
   "outputs": [
    {
     "data": {
      "image/png": "[encoded data removed]",
      "text/plain": [
       "<Figure size 382.65x432 with 1 Axes>"
      ]
     },
     "metadata": {
      "needs_background": "light"
     },
     "output_type": "display_data"
    }
   ],
   "source": [
    "plot15 = sns.catplot(x=\"passenger_count\", hue=\"pickup_month\", data=data, kind=\"count\",height=6, aspect=.7)"
   ]
  },
  {
   "cell_type": "code",
   "execution_count": 56,
   "id": "1e710cf8",
   "metadata": {},
   "outputs": [
    {
     "data": {
      "image/png": "[encoded data removed]",
      "text/plain": [
       "<Figure size 396.275x432 with 1 Axes>"
      ]
     },
     "metadata": {
      "needs_background": "light"
     },
     "output_type": "display_data"
    }
   ],
   "source": [
    "plot16 = sns.catplot(x=\"passenger_count\", hue=\"pickup_weekday\", data=data, kind=\"count\",height=6, aspect=.7)"
   ]
  },
  {
   "cell_type": "code",
   "execution_count": 57,
   "id": "e81486e0",
   "metadata": {
    "scrolled": true
   },
   "outputs": [
    {
     "data": {
      "image/png": "[encoded data removed]",
      "text/plain": [
       "<Figure size 371.025x432 with 1 Axes>"
      ]
     },
     "metadata": {
      "needs_background": "light"
     },
     "output_type": "display_data"
    }
   ],
   "source": [
    "plot17 = sns.catplot(x=\"passenger_count\", hue=\"pickup_hour\", data=data, kind=\"count\",height=6, aspect=.7)"
   ]
  },
  {
   "cell_type": "code",
   "execution_count": null,
   "id": "9e80a08e",
   "metadata": {},
   "outputs": [],
   "source": []
  }
 ],
 "metadata": {
  "kernelspec": {
   "display_name": "Python 3",
   "language": "python",
   "name": "python3"
  },
  "language_info": {
   "codemirror_mode": {
    "name": "ipython",
    "version": 3
   },
   "file_extension": ".py",
   "mimetype": "text/x-python",
   "name": "python",
   "nbconvert_exporter": "python",
   "pygments_lexer": "ipython3",
   "version": "3.8.8"
  }
 },
 "nbformat": 4,
 "nbformat_minor": 5
}
